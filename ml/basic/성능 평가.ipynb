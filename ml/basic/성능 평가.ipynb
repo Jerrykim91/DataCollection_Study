{
 "cells": [
  {
   "cell_type": "markdown",
   "metadata": {},
   "source": [
    "# 지도 학습  > 분류 > 분류 결과에 대한 평가 \n",
    "\n",
    "### 지표 \n",
    "\n",
    "- 정확도 ()\n",
    "> 결과가 얼마나 정확하게 나누어 졌는가를 기준으로 분류기의 성능을 평가 \n",
    "> **정확도 = 정답과 일치한수 / 전체 데이터수**\n",
    "> 예) 수신된 메일이 100건 , 분류기로 분류를해보니 스팸이 60건으로 일치되어 처리 , 정상은 40건 체크 -> 60/100 =>60%\n",
    "> 무작위로 선택된 결과 최저성능으로 두는 밥법 \n",
    "\n",
    "- 정밀도 ()\n",
    "> 출력 결과에서 정답을 얼마나 맞혔는지 나타내는 지표\n",
    "> **분류기가 스팸으로 판정한 메일들중에서 진짜 스팸일 비율**\n",
    "> 스팸 판정한 메일이 80개이다. 이중 진짜가 55개다 => 55/80 => 0.6875\n",
    "> 많이 분류를 해내지 못하더라도  더정확한 예측을 중시한다면 정밀도 !!!\n",
    "-> 스팸이 들어 와도 좋으니 , 반드시 받아야하는 메일을 스팸으로 잡히면 안된다.\n",
    "\n",
    "- 재현율\n",
    "> 출력 결과가 실제 정답중에서 얼마나 맞혔는가를 나타내는 지표 \n",
    "> 전체 데이터에 포함된 실제스팸 60건, 분류가 스팸으로 판정한 개수 (55건)의 비율 => 55/60 => 0.916\n",
    "> 현재 상황을 보면 재현율이 정밀도 보다 1에 더 가까우므로 재현율을 중시한다라고 이 분류기를 체크 할수 있다. \n",
    "> 잘못 거르더라도, 스팸을 놓지않는다 이런 경우 재현율을 중시 \n",
    "=> 질병 => 발생 빈도가 낮은 질병이라도, 거짓 양성이 가금 나오더라도 이런환자는 재검사를 통해서 확진하면 되니까. 문제가 없다. => 라는 논리를 가진 문제 \n",
    "\n",
    "- f-점수 ,f1-score(균형)\n",
    ">균형 잡힌 성능 평가 지표 \n",
    ">정밀도와 재현율의 상충관계 => 평가에 반영하여, 실제 분류기를 비교할때 사용하는 지표\n",
    "> f-measure => 2/(1/정밀도) + (1/재현율) = 2/(1/0.68+1/0.92) = 0.782\n",
    "\n",
    "> 정밀도와 재현율이 균형을 이룰때, F-점수는 높아진다.\n",
    "\n",
    "- ROC곡선\n",
    "\n",
    "- AUC\n",
    "\n",
    "- 평가 기준 => 균형 \n",
    "> 비표는 프로젝트나 비지니스 상에 최소한의 품질을 확보하는 기준점  \n",
    "> 문제점\n",
    "    - 지표에 매몰되는 부분 (지표가 목적이됨)\n",
    "      - 학습 모델의 성능을 높이는 부분과 비지니스 목적을 달성하는 부분은 다.르.다"
   ]
  },
  {
   "cell_type": "markdown",
   "metadata": {},
   "source": [
    "# 지도 학습  > 분류 >회귀 모델에 대한 평가 \n",
    "\n",
    "### 지표 \n",
    "### *추천시스템 체크*\n",
    "\n",
    "- 평균 제곱근 오차\n",
    "- 결장 계수"
   ]
  },
  {
   "cell_type": "markdown",
   "metadata": {},
   "source": [
    "#### 관련 개념 \n",
    "\n",
    "- 혼동행렬(confusion matrix)\n",
    "\n",
    " > 양성(스팸이 맞음) => 진짜 양성(True Positive: TP) <-> 거짓 음성(False Negative :FN ) \n",
    " > 음성(스팸 아님) => 거짓 양성(False Positive: FT) <-> 진짜 음성(True Negative  :TN)\n",
    " \n",
    " > 메일은 총 100건, 실제스팸은 60건 (일일이 확인), 분류기가 판정한 스팸이 80건, 그중 진짜 스팸은 55건\n",
    "                            \n",
    "             예측 결과\n",
    "---------------------------------------------------------------------\n",
    "            양성(스팸)                         음성(스팸아님)\n",
    " 실제:         55:TP                             5(60-55):FN                \n",
    " 결과:     25(80-55):FP                          15(20-5):TN\n",
    "\n",
    "- TP,FP,FN(),TN()\n",
    "- 55        : 메일 100건 중, 실제스팸 60개, 분류기의 판정 80개, 그중 맞춘게 55개 (TP)\n",
    "- 25(80-55) : 분류기가 판정한 80개 그중 맞춘것이 55개 틀린것 25개 (FP)\n",
    "- 5(60-55)  : 실제스팸이 60개 그중에서 분류기에 맞춘것이 55개 합이 틀리것이 5개(TN)\n",
    "- 15(20-5)  : 스팸이 아니라고 판정-> 20개 (100-80)개 그중 진짜스팸이 5개 이것을 뺀 15개(FN)\n",
    "\n",
    "- 정밀도 = TP/(TP+FP)\n",
    "> 분류기가 맞춘 스팸중에 진짜 스팸이 얼마나 있는가?\n",
    "> 55 / 80 => 55 / ( 55 + 25 ) = 0.6875\n",
    "- 재현율 = TP/(TP+FN) = 0.916\n",
    "> 분류기가 분류한 스팸이 진짜 스팸 대비 얼마나 되는가 \n",
    "> 55 / 60 = 55 / ( 55 + 5 ) = 0.916\n",
    "- 정확도  =(TP+TN)/)(TP+FP+TN+FN)\n",
    ">( 55 + 15 ) / ( 55 + 25 + 15 + 5 ) = 0.7\n",
    "\n",
    "=> sklearn.metrics.confusion_matrix() 이함수가 자동 계산 \n",
    "=> 혼동 행렬 값을 계산해서 리턴해준다 => 이를 통해서 모델 비교, 평가를 자동으로 수행 할수 있다. \n",
    "[[ 55, 5 ]]\n",
    "[[ 25, 15 ]]\n",
    "\n",
    "#### 다중 클래스 분류에서 클래스 전체의 평균을 구하는 방법 2가지 \n",
    "- 마이크로 평균 \n",
    "> 모든 클래스의 결과를 합쳐서 전체를 평가\n",
    "> 3개 클래스의 결과=> TP1,FP1,TP2,FP2,TP3,FP3 이렇게 존재 한다면 \n",
    "> 정밀도 (마이크로 평균) = ( TP1 + TP2 + TP3 ) / ( TP1 + FP1 + TP2 + FP2 + TP3 + FP3 )\n",
    "\n",
    "-  매크로 평균 \n",
    "> 전체 성능의 양상을 알기위해 사용 \n",
    "> 클래스 별 정밀도를 확득 \n",
    "> 정밀도( 매크로 평균 ) = ( 정밀도 1 + 정밀도 2 + 정밀도 3 ) / 3"
   ]
  },
  {
   "cell_type": "code",
   "execution_count": 33,
   "metadata": {},
   "outputs": [],
   "source": [
    "from matplotlib import pyplot as plt\n",
    "import sklearn.datasets\n",
    "import pandas as pd"
   ]
  },
  {
   "cell_type": "code",
   "execution_count": 34,
   "metadata": {},
   "outputs": [],
   "source": [
    "# 아이리스 데이터 로드 \n",
    "def attach_iris_df():\n",
    "    #데이터 로드 \n",
    "    ds = sklearn.datasets.load_iris()\n",
    "    #print(type(ds).ds['data'])\n",
    "    \n",
    "    #df 구성\n",
    "    df = pd.DataFrame( ds['data'], columns=ds['feature_names'])\n",
    "    \n",
    "    #print (ds['target_names'])\n",
    "    # 레이블 데이터  컬럼명은 species\n",
    "    # species라는 컬럼명을 추가하고 , target_name의 값을 세팅 \n",
    "    #정답 데이터는 ds['target']\n",
    "    tmp = dict(zip(range(3),ds['target_names']))\n",
    "    df['species'] = [tmp[idx] for idx in ds['target']]\n",
    "\n",
    "    return df"
   ]
  },
  {
   "cell_type": "code",
   "execution_count": 35,
   "metadata": {},
   "outputs": [
    {
     "data": {
      "text/html": [
       "<div>\n",
       "<style scoped>\n",
       "    .dataframe tbody tr th:only-of-type {\n",
       "        vertical-align: middle;\n",
       "    }\n",
       "\n",
       "    .dataframe tbody tr th {\n",
       "        vertical-align: top;\n",
       "    }\n",
       "\n",
       "    .dataframe thead th {\n",
       "        text-align: right;\n",
       "    }\n",
       "</style>\n",
       "<table border=\"1\" class=\"dataframe\">\n",
       "  <thead>\n",
       "    <tr style=\"text-align: right;\">\n",
       "      <th></th>\n",
       "      <th>sepal length (cm)</th>\n",
       "      <th>sepal width (cm)</th>\n",
       "      <th>petal length (cm)</th>\n",
       "      <th>petal width (cm)</th>\n",
       "      <th>species</th>\n",
       "    </tr>\n",
       "  </thead>\n",
       "  <tbody>\n",
       "    <tr>\n",
       "      <td>0</td>\n",
       "      <td>5.1</td>\n",
       "      <td>3.5</td>\n",
       "      <td>1.4</td>\n",
       "      <td>0.2</td>\n",
       "      <td>setosa</td>\n",
       "    </tr>\n",
       "    <tr>\n",
       "      <td>1</td>\n",
       "      <td>4.9</td>\n",
       "      <td>3.0</td>\n",
       "      <td>1.4</td>\n",
       "      <td>0.2</td>\n",
       "      <td>setosa</td>\n",
       "    </tr>\n",
       "  </tbody>\n",
       "</table>\n",
       "</div>"
      ],
      "text/plain": [
       "   sepal length (cm)  sepal width (cm)  petal length (cm)  petal width (cm)  \\\n",
       "0                5.1               3.5                1.4               0.2   \n",
       "1                4.9               3.0                1.4               0.2   \n",
       "\n",
       "  species  \n",
       "0  setosa  \n",
       "1  setosa  "
      ]
     },
     "execution_count": 35,
     "metadata": {},
     "output_type": "execute_result"
    }
   ],
   "source": [
    "df = attach_iris_df()\n",
    "df.head(2)"
   ]
  },
  {
   "cell_type": "code",
   "execution_count": 36,
   "metadata": {},
   "outputs": [],
   "source": [
    "# roc, auc를 이용한 성능평가를 수행하기 위해 모듈 가져오기\n",
    "import sklearn\n",
    "# 측정 패키지\n",
    "from sklearn.metrics import roc_curve, auc\n",
    "# 훈련용, 테스트용 분류\n",
    "from sklearn.model_selection import train_test_split\n",
    "# 분류 알고리즘\n",
    "from sklearn.linear_model import LogisticRegression\n",
    "from sklearn.tree import DecisionTreeClassifier\n",
    "from sklearn.ensemble import RandomForestClassifier\n",
    "from sklearn.naive_bayes import GaussianNB"
   ]
  },
  {
   "cell_type": "code",
   "execution_count": 37,
   "metadata": {},
   "outputs": [],
   "source": [
    "# 분류 알고리즘 별로 손쉽게 시각화를 하기 위해 값 세팅\n",
    "class_map = {\n",
    "    '로지스틱 회귀':('-' , LogisticRegression()),    \n",
    "    '결정 트리':    ('--', DecisionTreeClassifier(max_depth=5)),\n",
    "    '랜덤 포레스트':('.-', RandomForestClassifier(max_depth=5, n_estimators=10, \n",
    "                           max_features=1)),\n",
    "    '나이브 베이즈':(':' , GaussianNB())\n",
    "}"
   ]
  },
  {
   "cell_type": "code",
   "execution_count": 38,
   "metadata": {},
   "outputs": [
    {
     "data": {
      "text/plain": [
       "(150, 5)"
      ]
     },
     "execution_count": 38,
     "metadata": {},
     "output_type": "execute_result"
    }
   ],
   "source": [
    "df.shape"
   ]
  },
  {
   "cell_type": "code",
   "execution_count": 39,
   "metadata": {},
   "outputs": [
    {
     "data": {
      "text/plain": [
       "(150, 4)"
      ]
     },
     "execution_count": 39,
     "metadata": {},
     "output_type": "execute_result"
    }
   ],
   "source": [
    "#데이터를 나눠서 임시 구성 \n",
    "# species를 제외하고 나머지만 150x4\n",
    "X = df[df.columns[:4]]\n",
    "X.shape"
   ]
  },
  {
   "cell_type": "code",
   "execution_count": 40,
   "metadata": {},
   "outputs": [
    {
     "data": {
      "text/plain": [
       "{'setosa', 'versicolor', 'virginica'}"
      ]
     },
     "execution_count": 40,
     "metadata": {},
     "output_type": "execute_result"
    }
   ],
   "source": [
    "set( df['species'] )"
   ]
  },
  {
   "cell_type": "code",
   "execution_count": 41,
   "metadata": {},
   "outputs": [
    {
     "data": {
      "text/plain": [
       "(0    False\n",
       " 1    False\n",
       " Name: species, dtype: bool, pandas.core.series.Series, (150,))"
      ]
     },
     "execution_count": 41,
     "metadata": {},
     "output_type": "execute_result"
    }
   ],
   "source": [
    "# Y는 이진 분류 데이터로 구성하겠다.\n",
    "# 종이 setosa 인가 아닌가로 구성 하는데 , \n",
    "Y = df['species']  == 'versicolor'\n",
    "Y[:2],type(Y),Y.shape"
   ]
  },
  {
   "cell_type": "code",
   "execution_count": 42,
   "metadata": {},
   "outputs": [],
   "source": [
    "# 데이터를 훈련용 , 테스트용\n",
    "# 테스트용 비율을 의도적으로 높임\n",
    "X_train, X_test, Y_train, Y_test = train_test_split( X, Y, test_size=0.8 )"
   ]
  },
  {
   "cell_type": "code",
   "execution_count": 43,
   "metadata": {},
   "outputs": [
    {
     "data": {
      "text/plain": [
       "((30, 4), (120, 4))"
      ]
     },
     "execution_count": 43,
     "metadata": {},
     "output_type": "execute_result"
    }
   ],
   "source": [
    "X_train.shape, X_test.shape"
   ]
  },
  {
   "cell_type": "code",
   "execution_count": 44,
   "metadata": {},
   "outputs": [
    {
     "name": "stdout",
     "output_type": "stream",
     "text": [
      "('로지스틱 회귀', ('-', LogisticRegression(C=1.0, class_weight=None, dual=False, fit_intercept=True,\n",
      "                   intercept_scaling=1, l1_ratio=None, max_iter=100,\n",
      "                   multi_class='warn', n_jobs=None, penalty='l2',\n",
      "                   random_state=None, solver='warn', tol=0.0001, verbose=0,\n",
      "                   warm_start=False)))\n",
      "('결정 트리', ('--', DecisionTreeClassifier(class_weight=None, criterion='gini', max_depth=5,\n",
      "                       max_features=None, max_leaf_nodes=None,\n",
      "                       min_impurity_decrease=0.0, min_impurity_split=None,\n",
      "                       min_samples_leaf=1, min_samples_split=2,\n",
      "                       min_weight_fraction_leaf=0.0, presort=False,\n",
      "                       random_state=None, splitter='best')))\n",
      "('랜덤 포레스트', ('.-', RandomForestClassifier(bootstrap=True, class_weight=None, criterion='gini',\n",
      "                       max_depth=5, max_features=1, max_leaf_nodes=None,\n",
      "                       min_impurity_decrease=0.0, min_impurity_split=None,\n",
      "                       min_samples_leaf=1, min_samples_split=2,\n",
      "                       min_weight_fraction_leaf=0.0, n_estimators=10,\n",
      "                       n_jobs=None, oob_score=False, random_state=None,\n",
      "                       verbose=0, warm_start=False)))\n",
      "('나이브 베이즈', (':', GaussianNB(priors=None, var_smoothing=1e-09)))\n"
     ]
    }
   ],
   "source": [
    "for a in class_map.items():\n",
    "    print(a)"
   ]
  },
  {
   "cell_type": "code",
   "execution_count": 45,
   "metadata": {},
   "outputs": [
    {
     "name": "stdout",
     "output_type": "stream",
     "text": [
      "Malgun Gothic\n"
     ]
    }
   ],
   "source": [
    "# 한글 처리 \n",
    "import platform\n",
    "from matplotlib import font_manager, rc\n",
    "\n",
    "get_ipython().run_line_magic('matplotlib', 'inline')\n",
    "\n",
    "def initKoreaFontLoad() :\n",
    "    plt.rcParams['axes.unicode_minus'] = False\n",
    "    os_name = platform.system()\n",
    "    \n",
    "    if os_name == 'Darwin' :\n",
    "        # MacOS, Linux\n",
    "        rc('font', family = 'AppleGothic')\n",
    "    elif os_name == 'Windows' :\n",
    "        # window10 ~ window server\n",
    "        path = 'c:/Windows/Fonts/malgun.ttf'\n",
    "        font_name = font_manager.FontProperties(fname=path).get_name()\n",
    "        print(font_name)\n",
    "        rc('font', family = font_name)\n",
    "    else :\n",
    "        print('알 수 없는 시스템')\n",
    "        pass\n",
    "initKoreaFontLoad()"
   ]
  },
  {
   "cell_type": "markdown",
   "metadata": {},
   "source": [
    " # 예측\n",
    "> predict_proba(): 예측에 대한 확률로 예측 -> 알고리즘의 신뢰 수준을 알수 있어서 유연하게 비교시에 활용(0,1 중에 1이 될 확률 0.57이다. => 1을)\n",
    "> 상대적으로 더 예측하는 모델인데, 만약 해당 모델이 0을 더 잘맞춘다고 본다면 예측 값은 0으로 해석\n",
    ">predict() : 예측 값을 기준으로 예측"
   ]
  },
  {
   "cell_type": "code",
   "execution_count": 46,
   "metadata": {},
   "outputs": [
    {
     "name": "stderr",
     "output_type": "stream",
     "text": [
      "C:\\Users\\sun41\\AppData\\Local\\Continuum\\anaconda3\\envs\\analysis\\lib\\site-packages\\sklearn\\linear_model\\logistic.py:432: FutureWarning: Default solver will be changed to 'lbfgs' in 0.22. Specify a solver to silence this warning.\n",
      "  FutureWarning)\n"
     ]
    },
    {
     "name": "stdout",
     "output_type": "stream",
     "text": [
      "로지스틱 회귀 auc:0.8032296650717704\n",
      "결정 트리 auc:0.9641148325358853\n",
      "랜덤 포레스트 auc:0.9835526315789473\n",
      "나이브 베이즈 auc:0.9560406698564593\n"
     ]
    },
    {
     "data": {
      "image/png": "[encoded data removed]",
      "text/plain": [
       "<Figure size 576x576 with 1 Axes>"
      ]
     },
     "metadata": {
      "needs_background": "light"
     },
     "output_type": "display_data"
    }
   ],
   "source": [
    "plt.figure(figsize=(8,8))\n",
    "\n",
    "for name, ( line_style, model ) in class_map.items():\n",
    "    #훈련\n",
    "    model.fit( X_train, Y_train )\n",
    "    #예측\n",
    "    preds = model.predict_proba(X_test)\n",
    "    # print(preds[:2])\n",
    "    \n",
    "    # roc 커브 생성 \n",
    "    pred = pd.Series(preds[:, 1])\n",
    "    #fpr : 거짓 양성비\n",
    "    #tpr : 참 양성비 : true positive rate \n",
    "    #thresholds : fpr, tpr를 계산 할때 사용한 결정 함수의 임계값\n",
    "    \n",
    "    fpr,tpr,thresholds = roc_curve(Y_test, pred)\n",
    "    #auc 스코어  => 곡선을 보다보면 수치적 비교가 않된다.\n",
    "    auc_score = auc(fpr , tpr)\n",
    "    print('%s auc:%s' %(name, auc_score))\n",
    "    \n",
    "    # 그리기 \n",
    "    plt.plot( fpr, tpr, line_style, linewidth = 5, label = name )\n",
    "    \n",
    "plt.legend()\n",
    "plt.title('분류기 성능 비교')\n",
    "# 구분을 위해서 대각선 기울기가 1인 선을 드로잉 \n",
    "plt.plot([0,1],[0,1], 'k--' )\n",
    "# 구간 제한\n",
    "plt.ylim([0.0, 1.05])\n",
    "\n",
    "# 라벨 \n",
    "plt.xlabel('거짓 양성비')\n",
    "plt.ylabel('참 양성비')\n",
    "plt.show()\n",
    "\n",
    " # 한놈은 직접받고 한놈은 듀플로 받고 "
   ]
  },
  {
   "cell_type": "code",
   "execution_count": 47,
   "metadata": {},
   "outputs": [
    {
     "name": "stdout",
     "output_type": "stream",
     "text": [
      "0.26666666666666666\n"
     ]
    }
   ],
   "source": [
    "# 매크로 평균 , 마이크로 평균 \n",
    "from sklearn.metrics import f1_score\n",
    "y_true = [ 0, 1, 2, 0, 1, 2 ]\n",
    "y_pred = [ 0, 2, 1, 0, 0, 1 ]\n",
    "# 매크로  평균기반 \n",
    "# 정밀도 = 참의 개별값 합산 /(참의 개별값 합산 + 거짓의 개별값 합산)\n",
    "print(f1_score(y_true, y_pred, average = 'macro' ))"
   ]
  },
  {
   "cell_type": "code",
   "execution_count": 49,
   "metadata": {},
   "outputs": [
    {
     "name": "stdout",
     "output_type": "stream",
     "text": [
      "0.3333333333333333\n"
     ]
    }
   ],
   "source": [
    "# 마이크로 평균기반 \n",
    "# 정밀도 = ( 정밀도 1+ 정밀도 2+ ...)/ n개의 클래스 분류 개수 \n",
    "print(f1_score(y_true, y_pred, average = 'micro' ))"
   ]
  },
  {
   "cell_type": "code",
   "execution_count": 50,
   "metadata": {},
   "outputs": [
    {
     "name": "stdout",
     "output_type": "stream",
     "text": [
      "0.26666666666666666\n"
     ]
    }
   ],
   "source": [
    "print(f1_score(y_true, y_pred, average = 'weighted' ))"
   ]
  },
  {
   "cell_type": "code",
   "execution_count": 51,
   "metadata": {},
   "outputs": [
    {
     "name": "stdout",
     "output_type": "stream",
     "text": [
      "[0.8 0.  0. ]\n"
     ]
    }
   ],
   "source": [
    "print(f1_score(y_true, y_pred, average = None ))"
   ]
  },
  {
   "cell_type": "markdown",
   "metadata": {},
   "source": [
    "### 지도학습 > 회귀 > 회귀 모델에 대한 평가\n",
    "\n",
    "#### 지표\n",
    "##### 추천 시스템에서 체크\n",
    "- 평균 제곱근 오차\n",
    "- 결정계수\n",
    "\n",
    "### 기타 > A/B 테스트\n",
    "- 일반 s/w에서 테스트를 하는 방식을 혼용"
   ]
  },
  {
   "cell_type": "code",
   "execution_count": null,
   "metadata": {},
   "outputs": [],
   "source": []
  },
  {
   "cell_type": "code",
   "execution_count": null,
   "metadata": {},
   "outputs": [],
   "source": []
  },
  {
   "cell_type": "code",
   "execution_count": null,
   "metadata": {},
   "outputs": [],
   "source": []
  },
  {
   "cell_type": "code",
   "execution_count": null,
   "metadata": {},
   "outputs": [],
   "source": []
  },
  {
   "cell_type": "code",
   "execution_count": null,
   "metadata": {},
   "outputs": [],
   "source": []
  },
  {
   "cell_type": "code",
   "execution_count": null,
   "metadata": {},
   "outputs": [],
   "source": []
  },
  {
   "cell_type": "code",
   "execution_count": null,
   "metadata": {},
   "outputs": [],
   "source": []
  },
  {
   "cell_type": "code",
   "execution_count": null,
   "metadata": {},
   "outputs": [],
   "source": []
  },
  {
   "cell_type": "code",
   "execution_count": null,
   "metadata": {},
   "outputs": [],
   "source": []
  },
  {
   "cell_type": "code",
   "execution_count": null,
   "metadata": {},
   "outputs": [],
   "source": []
  },
  {
   "cell_type": "code",
   "execution_count": null,
   "metadata": {},
   "outputs": [],
   "source": []
  },
  {
   "cell_type": "code",
   "execution_count": null,
   "metadata": {},
   "outputs": [],
   "source": []
  },
  {
   "cell_type": "markdown",
   "metadata": {},
   "source": [
    "할때마다 \n",
    "예측하고 훈련하고 그림"
   ]
  },
  {
   "cell_type": "markdown",
   "metadata": {},
   "source": [
    "### 기타 > A/B테스트 \n",
    "- 일반 S/W"
   ]
  },
  {
   "cell_type": "code",
   "execution_count": null,
   "metadata": {},
   "outputs": [],
   "source": []
  },
  {
   "cell_type": "code",
   "execution_count": null,
   "metadata": {},
   "outputs": [],
   "source": []
  },
  {
   "cell_type": "code",
   "execution_count": null,
   "metadata": {},
   "outputs": [],
   "source": []
  },
  {
   "cell_type": "code",
   "execution_count": null,
   "metadata": {},
   "outputs": [],
   "source": []
  }
 ],
 "metadata": {
  "kernelspec": {
   "display_name": "Python 3",
   "language": "python",
   "name": "python3"
  },
  "language_info": {
   "codemirror_mode": {
    "name": "ipython",
    "version": 3
   },
   "file_extension": ".py",
   "mimetype": "text/x-python",
   "name": "python",
   "nbconvert_exporter": "python",
   "pygments_lexer": "ipython3",
   "version": "3.6.9"
  }
 },
 "nbformat": 4,
 "nbformat_minor": 2
}
