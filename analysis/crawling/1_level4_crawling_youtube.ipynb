{
 "cells": [
  {
   "cell_type": "markdown",
   "metadata": {},
   "source": [
    "## 크롤링 1\n",
    "\n",
    "- 유튜브를 크롤링하여 데이터를 획득\n",
    "- 크롤링을 해야 이유는 유튜브 자체가 ajax를 이용한 방식이므로 사람의 손길이 필요한\n",
    "  사이트\n",
    "- 일반적인 html 자체에는 자체 정의 태그를 들을 혼용한다 => Angular.js를 부분 사용을 했다라고 판단됨.\n",
    "- 일반적인 css selector의 규칙중에 id규칙(문서내에 고유하다)을 무시한다\n",
    "  => 사용 주의\n",
    "- 데이터 로드는 ajax를 통해서 사용자가 스크롤링을 해서 리스트의 끝에 도착할때 더보기(이런 기능)이 처리되므로, 전체 데이터르 수집하기 위해서는 js를 가동시켜야 한다\n",
    "- 사용라이브러리는 selenium을 사용\n",
    "- https://www.seleniumhq.org/\n",
    "- 웹드라이버(여기서는 크롬을 사용)\n",
    "  > https://sites.google.com/a/chromium.org/chromedriver/downloads  \n",
    "  > 최신버전이 적용 않되는 혹은 버그가 있는 기능이 잇으므오, 혹시 않되면, 계속 버전을 내려가몃서 사용  \n",
    "- API-DOCs\n",
    "  > https://seleniumhq.github.io/selenium/docs/api/py/index.html \n",
    "  > https://selenium-python.readthedocs.io/\n",
    "- install\n",
    "  > conda install selenium  \n",
    "  > or  \n",
    "  > pip install selenium"
   ]
  },
  {
   "cell_type": "code",
   "execution_count": 167,
   "metadata": {},
   "outputs": [],
   "source": [
    "from selenium import webdriver as wd"
   ]
  },
  {
   "cell_type": "code",
   "execution_count": 168,
   "metadata": {},
   "outputs": [],
   "source": [
    "import urllib"
   ]
  },
  {
   "cell_type": "code",
   "execution_count": 169,
   "metadata": {},
   "outputs": [],
   "source": [
    "# 업로드 순 정렬, 오늘 (현재 기준 24시간 이내 게시물)\n",
    "# target_url = 'https://www.youtube.com/results?search_query={}&sp=CAISBAgCEAE%253D'\n",
    "# 이주소는 어디서 가져 온거;? \n",
    "target_url = 'https://www.youtube.com/results?search_query={}&sp=CAISBAgCEAE%253D'"
   ]
  },
  {
   "cell_type": "code",
   "execution_count": 170,
   "metadata": {},
   "outputs": [],
   "source": [
    "keyword ='갤럭시노트10'"
   ]
  },
  {
   "cell_type": "code",
   "execution_count": 171,
   "metadata": {},
   "outputs": [
    {
     "data": {
      "text/plain": [
       "'https://www.youtube.com/results?search_query=%EA%B0%A4%EB%9F%AD%EC%8B%9C%EB%85%B8%ED%8A%B810&sp=CAISBAgCEAE%253D'"
      ]
     },
     "execution_count": 171,
     "metadata": {},
     "output_type": "execute_result"
    }
   ],
   "source": [
    "target_url = target_url.format(urllib.parse.quote(keyword))\n",
    "target_url"
   ]
  },
  {
   "cell_type": "code",
   "execution_count": 172,
   "metadata": {},
   "outputs": [],
   "source": [
    "# 웹드라이버 가동 => 여기서 다운(https://sites.google.com/a/chromium.org/chromedriver/downloads)\n",
    "# driver = wd.Chrome('웹 드라이버 저장경로')\n",
    "# 같은 폴더에 저장되어있으경우 => driver = wd.Chrome() 이렇게도 동작한다. \n",
    "driver = wd.Chrome('../tool/chromedriver_75.0.3770.140.exe')"
   ]
  },
  {
   "cell_type": "code",
   "execution_count": 173,
   "metadata": {},
   "outputs": [],
   "source": [
    "#사이트 접속 \n",
    "driver.get(target_url)"
   ]
  },
  {
   "cell_type": "code",
   "execution_count": null,
   "metadata": {},
   "outputs": [],
   "source": [
    "# 스크롤을  쳐서 데이터를 다 로드 시킨다. \n",
    "# 데이터량이 엄청 많지 않을 때 가능하다\n",
    "# ajax를 사용할 경우 서버가 반응해서 응답이 오고 \n",
    "# 화면구성 할때까지 시간이 걸린다. 스크롤마다 대기시간이 필요하다 \n",
    "for n in range(100):\n",
    "    driver.execute_script('window.scrollBy(0,1000)')\n",
    "    # 다음 작업을 코드적으로 강제 대기시킨것이다. \n",
    "    # 데이터 추출시에는 selenium에서 지원하는 waits기법을 사용하면 좋다\n",
    "    time.sleep(2)"
   ]
  },
  {
   "cell_type": "code",
   "execution_count": null,
   "metadata": {},
   "outputs": [],
   "source": [
    "# 영상 데이터 한줄 :  ytd-video-renderer\n",
    "# 영상 메타 정보 : video-title"
   ]
  },
  {
   "cell_type": "code",
   "execution_count": null,
   "metadata": {},
   "outputs": [],
   "source": [
    "videos = driver.find_elements_by_tag_name('ytd-video-renderer')\n",
    "len(videos),type(videos)"
   ]
  },
  {
   "cell_type": "code",
   "execution_count": null,
   "metadata": {},
   "outputs": [],
   "source": [
    "#driver.find_element_by_css_selector\n",
    "for video in videos[:2]:\n",
    "    # 영상의 타이틀\n",
    "    print( video.find_element_by_id('video-title').get_attribute('title') )\n",
    "    # 썸네임\n",
    "    print( video.find_element_by_tag_name('img').get_attribute('src') )\n",
    "    # 링크\n",
    "    print( video.find_element_by_id('video-title').get_attribute('href') )\n",
    "    # 작성자\n",
    "    print( video.find_element_by_css_selector('#metadata-line>a').text)\n",
    "    # 조회수 : metadata-line, # 작성시간\n",
    "    for span in video.find_elements_by_css_selector('#metadata-line>span'):\n",
    "        print( span.text)\n",
    "    '''\n",
    "    [\n",
    "      { 'title':'xx', 'thum':'xx', 'link':'xx', 'author':'xx', 'views':x, 'time':''}\n",
    "      ,{},{},...\n",
    "    ]\n",
    "    '''"
   ]
  },
  {
   "cell_type": "code",
   "execution_count": null,
   "metadata": {},
   "outputs": [],
   "source": [
    "results = []\n",
    "for video in videos:#[:2]:    \n",
    "    dic = {\n",
    "        'title':video.find_element_by_id('video-title').get_attribute('title')\n",
    "        ,'thum':video.find_element_by_tag_name('img').get_attribute('src')\n",
    "        ,'link':video.find_element_by_id('video-title').get_attribute('href')\n",
    "        ,'author':video.find_element_by_css_selector('#byline>a').text\n",
    "        ,'views':video.find_elements_by_css_selector('#metadata-line>span')[0].text\n",
    "        ,'time':video.find_elements_by_css_selector('#metadata-line>span')[1].text\n",
    "    }\n",
    "    results.append( dic )\n",
    "results"
   ]
  },
  {
   "cell_type": "code",
   "execution_count": null,
   "metadata": {
    "scrolled": false
   },
   "outputs": [],
   "source": [
    "for link in results[-2:-1]:\n",
    "    print( link['link'] )\n",
    "    \n",
    "    # 해당 콘텐츠에 진입\n",
    "    driver.get( link['link'] )\n",
    "    # 잠시대기 -> 반드시 신규페이지에서는 대기\n",
    "    print('5초 대기시도')\n",
    "    driver.implicitly_wait(5)\n",
    "    \n",
    "    # 화면 스크롤 \n",
    "    for n in range(3):\n",
    "        print('화면스크롤 시도')\n",
    "        driver.execute_script('window.scrollBy(0,1000)')\n",
    "    print('5초 대기시도')\n",
    "    time.sleep(5)\n",
    "    # 후기 개수를 확인 -> 적정선까지 로드\n",
    "    for cnt in driver.find_elements_by_id('count'):\n",
    "        print( cnt.text )\n",
    "        \n",
    "    # 후기 채집 (작성자, 내용, 좋아요, 시간)\n",
    "    print( '-'*20 )\n",
    "    for comment in driver.find_elements_by_tag_name('ytd-comment-thread-renderer'):        \n",
    "        print( comment.text )\n",
    "        print( '-'*20 )"
   ]
  },
  {
   "cell_type": "code",
   "execution_count": null,
   "metadata": {},
   "outputs": [],
   "source": [
    "# 1. 한글명은 동일하게 세팅되니까, replace로 걷어내는 방법\n",
    "# 2. 정규식을 통해서 숫자만 남기고 모두 제거 \n",
    "tmp = ['조회수 39,529회', '댓글 362개']\n",
    "tmp[0].replace('조회수 ','').replace('회','')"
   ]
  },
  {
   "cell_type": "code",
   "execution_count": null,
   "metadata": {},
   "outputs": [],
   "source": [
    "tmp[1].replace('댓글','').replace('개','')"
   ]
  },
  {
   "cell_type": "code",
   "execution_count": null,
   "metadata": {},
   "outputs": [],
   "source": [
    "driver.close()\n",
    "driver.quit()"
   ]
  },
  {
   "cell_type": "code",
   "execution_count": null,
   "metadata": {},
   "outputs": [],
   "source": []
  },
  {
   "cell_type": "code",
   "execution_count": null,
   "metadata": {},
   "outputs": [],
   "source": []
  },
  {
   "cell_type": "code",
   "execution_count": null,
   "metadata": {},
   "outputs": [],
   "source": []
  },
  {
   "cell_type": "code",
   "execution_count": null,
   "metadata": {},
   "outputs": [],
   "source": []
  },
  {
   "cell_type": "code",
   "execution_count": null,
   "metadata": {},
   "outputs": [],
   "source": []
  },
  {
   "cell_type": "code",
   "execution_count": null,
   "metadata": {},
   "outputs": [],
   "source": []
  },
  {
   "cell_type": "code",
   "execution_count": null,
   "metadata": {},
   "outputs": [],
   "source": []
  }
 ],
 "metadata": {
  "kernelspec": {
   "display_name": "Python 3",
   "language": "python",
   "name": "python3"
  },
  "language_info": {
   "codemirror_mode": {
    "name": "ipython",
    "version": 3
   },
   "file_extension": ".py",
   "mimetype": "text/x-python",
   "name": "python",
   "nbconvert_exporter": "python",
   "pygments_lexer": "ipython3",
   "version": "3.6.9"
  }
 },
 "nbformat": 4,
 "nbformat_minor": 2
}
