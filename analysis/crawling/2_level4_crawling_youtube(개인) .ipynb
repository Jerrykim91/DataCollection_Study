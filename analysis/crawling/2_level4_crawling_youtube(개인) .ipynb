{
 "cells": [
  {
   "cell_type": "code",
   "execution_count": 35,
   "metadata": {},
   "outputs": [],
   "source": [
    "from selenium import webdriver as wd\n",
    "from bs4 import BeautifulSoup\n",
    "from selenium.webdriver.common.keys import Keys\n",
    "import time\n",
    "import urllib"
   ]
  },
  {
   "cell_type": "markdown",
   "metadata": {},
   "source": [
    "https://developers.google.com/youtube/v3/docs/search/list?hl=ko\n"
   ]
  },
  {
   "cell_type": "markdown",
   "metadata": {},
   "source": [
    "### 웹드라이버 가동 \n",
    "=> 여기서 다운(https://sites.google.com/a/chromium.org/chromedriver/downloads)\n",
    "> driver = wd.Chrome('웹 드라이버 저장경로')<br>\n",
    " 같은 폴더에 저장되어있으경우 => driver = wd.Chrome() 이렇게도 동작한다. "
   ]
  },
  {
   "cell_type": "code",
   "execution_count": 36,
   "metadata": {},
   "outputs": [],
   "source": [
    "driver = wd.Chrome('../tool/chromedriver_75.0.3770.140.exe')"
   ]
  },
  {
   "cell_type": "code",
   "execution_count": 37,
   "metadata": {},
   "outputs": [],
   "source": [
    "driver.get('https://www.youtube.com/')\n",
    "time.sleep(1)"
   ]
  },
  {
   "cell_type": "markdown",
   "metadata": {},
   "source": [
    "- time 라이브러리를 import 한 이유는 , 유투브url이 충분히 켜질 시간을 주는 역활\n",
    "아래부터는 유튜브 페이지의 html영역의 body를 스크롤을 충분히 내려주는 과정을 작성 <br>\n",
    "lxml에러 뜰 경우 인스톨이 안될 가능성이 있음 설치!! \n",
    "```\n",
    ">>> pip install lxml\n",
    "```"
   ]
  },
  {
   "cell_type": "code",
   "execution_count": 38,
   "metadata": {},
   "outputs": [],
   "source": [
    "html = driver.page_source\n",
    "soup = BeautifulSoup( html,'html.parser')\n",
    "titles = soup.find_all('h3')\n",
    "\n",
    "# 영상 제목 = >클레스 이름 ('video-title')"
   ]
  },
  {
   "cell_type": "markdown",
   "metadata": {},
   "source": [
    "- html -> page_source 를 통해 가져오고 =>  BeautifulSoup가 분석 \n",
    "- 대부분 제목이 h3(video-title)에 존재하기 때문에 그 제목의 값을 모두 찾아 준다. "
   ]
  },
  {
   "cell_type": "code",
   "execution_count": 39,
   "metadata": {},
   "outputs": [
    {
     "name": "stdout",
     "output_type": "stream",
     "text": [
      "🎉200만 구독자 특집이 되어버린 에버랜드 2탄!! 🎉 역대급 초과근무에 파업 선언 릴레이?! (feat. 뒤늦은 골드버튼 언박싱)ㅣ워크맨 ep.18\n",
      "총몇명 스토리 몰아보기 [추석특집]\n",
      "감스트 Q&A 궁금한거 답변해드립니다!\n",
      "[티비냥] 꿀잼 황제성 반응 때문에 투표할 맛 난다♥ ((츄릅츄릅)) 황제성 핵꿀잼맛집 더 괴로워해줘!!! | #코미디빅리그 | 170716 #08\n",
      "Show Me The Money8 [풀버전] CCTV - 릴타치 VS 서동현 @크루 리벤지 배틀 Full ver. 190913 EP.8\n",
      "빛나는 돌 만들기\n",
      "[멜론차트] 2019년 9월 13일자 KPOP 최신곡 추석특집 인기가요!!\n",
      "[멜론차트] 2019년 9월 9일자 최신곡  KPOP 인기가요 모음!!\n",
      "노래방 인기차트 가요 Top30 (2019년 9월 2주차) 노래방 애창곡 인기가요 (TJ/태진) | Popular Kpop Songs\n",
      "[LIVE] 🌲뭘 좋아할지 몰라서 다 준비했다🌲 기획사별 히트곡 모음 l 추석특집 KPOP LIVE | KPOP Ent. Company Stage Compilation\n",
      "타짜 짝귀의 아들이 고시공부하다 빡치면 위험한 이유\n",
      "괴생명체를 피해 차안에 고립되어버린 소녀\n",
      "타짜는 왜 손목이 잘리는가\n",
      "영국 최상위 명문대 교수를 빡치게 만든 빈민가 수학 천재ㅣ드라마 영화\n",
      "영화 더킹에서 사이다였던 장면\n",
      "지하 700m에 매몰되어 2개월을 버틴 광부들의 생존실화\n",
      "[티비냥] 진짜 눈빛부터 美쳤엌ㅋㅋㅋㅋ 대본 없는 이 구역의 도른자 황사또는 막을 수 없긔 | #코미디빅리그 | 170730 #08\n",
      "[티비냥] 너네 왜 눈을 못 마주쳐..?(◐ㅁ◑;;) 이용진 고개 숙이게 만든 박나래 방송사곸ㅋㅋㅋ | #코미디빅리그 | 170514 #01\n",
      "[티비냥] 살려주세요!! 황제성 나래바 탈출실패 또 감↑금이↗됩니다! 어떻게 해도 17년간 탈출할 수 없는 데스티니..★ | #코미디빅리그 | 171105 #05\n",
      "[티비냥] 도른자 양세형 따라하다 현웃터진 양세찬ㅋㅋㅋ (feat.갑자기 분위기 쌍화점♥) | #코미디빅리그 | 171008 #08\n",
      "[티비냥] 코빅 양애취 이상준 걸리면 🚨멘탈 바사삭 🚨 침착해요 화내지마세요!!!! | #코미디빅리그 | 170702 #02\n",
      "[티비냥] 똥💩이 되어버린 황제성ㅋㅋㅋㅋ🌸'거기'에서 그게 왜 나와..?🌸(feat.화끈한 대성씨♥) | #코미디빅리그 | 170514 #07\n",
      "블랙박스로 본 세상 @모닝와이드 131118\n",
      "라면의 달인 @생활의 달인 131117\n",
      "세상에 이런 일이 711회 #1\n",
      "라멘 '동작모형' 최초 공개! @생활의 달인 141013\n",
      "순간 포착 세상에 이런 일이 - 스포츠카 즐기는 73세 할머니 - 2013-07-04 (749회)\n",
      "버스 주차의 달인 @생활의 달인 140324\n",
      "\n"
     ]
    }
   ],
   "source": [
    "for title in titles: \n",
    "    print(title.get_text())\n",
    "    \n",
    "driver.close()"
   ]
  },
  {
   "cell_type": "code",
   "execution_count": null,
   "metadata": {},
   "outputs": [],
   "source": []
  },
  {
   "cell_type": "code",
   "execution_count": null,
   "metadata": {},
   "outputs": [],
   "source": []
  },
  {
   "cell_type": "code",
   "execution_count": null,
   "metadata": {},
   "outputs": [],
   "source": []
  },
  {
   "cell_type": "code",
   "execution_count": null,
   "metadata": {},
   "outputs": [],
   "source": []
  }
 ],
 "metadata": {
  "kernelspec": {
   "display_name": "Python 3",
   "language": "python",
   "name": "python3"
  },
  "language_info": {
   "codemirror_mode": {
    "name": "ipython",
    "version": 3
   },
   "file_extension": ".py",
   "mimetype": "text/x-python",
   "name": "python",
   "nbconvert_exporter": "python",
   "pygments_lexer": "ipython3",
   "version": "3.6.9"
  }
 },
 "nbformat": 4,
 "nbformat_minor": 2
}
