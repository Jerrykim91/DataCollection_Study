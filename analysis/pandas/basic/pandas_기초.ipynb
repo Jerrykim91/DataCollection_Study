{
 "cells": [
  {
   "cell_type": "markdown",
   "metadata": {},
   "source": [
    "## Pandas 기초 \n",
    "- pandsas는 R의 핵심 데이터 시리즈와 프레임을 파이썬에 추가한 것이다.\n",
    "- numpy를 기반으로 구현되었고, numpy 대비 기능을 더 확장하여 재구현한것\n",
    "- Python Data Analysis Library\n",
    "    + https://pandas.pydata.org"
   ]
  },
  {
   "cell_type": "code",
   "execution_count": 1,
   "metadata": {},
   "outputs": [],
   "source": [
    "import numpy as np\n",
    "import pandas as pd"
   ]
  },
  {
   "cell_type": "code",
   "execution_count": null,
   "metadata": {},
   "outputs": [],
   "source": [
    "- 파이썬의 자료구조\n",
    "> 수치형, 문자열, 리스트, 딕셔너리, 튜플, 집합, 블린  \n",
    "\n",
    "- *numpy의 자료구조*\n",
    "> ndarray(배열) : 배열의 데이터는 모든 같은 타입이다.\n",
    "    \n",
    "- pandas의 자료구조\n",
    "> Series(시리즈), DataFrame(데이터프레임)  \n",
    "> DataFrame의 인덱싱 -> Series의 인덱싱 -> 값(스칼라), 수치, 문자, 블린, NaN 이 등장  \n",
    "> Series: 인덱스와 데이터만 존재하는, 컬럼이 없는 자료구조  \n",
    "> DataFrame: 인덱스와 컬럼이 존재하는 자료구조\n",
    "> NaN : 데이터가 없다. (난, 넌), Not a Number => np.nan"
   ]
  },
  {
   "cell_type": "code",
   "execution_count": 2,
   "metadata": {
    "scrolled": true
   },
   "outputs": [
    {
     "data": {
      "text/plain": [
       "0    1.0\n",
       "1    3.0\n",
       "2    5.0\n",
       "3    NaN\n",
       "4    6.0\n",
       "5    8.0\n",
       "dtype: float64"
      ]
     },
     "execution_count": 2,
     "metadata": {},
     "output_type": "execute_result"
    }
   ],
   "source": [
    "#series\n",
    "# 데이터를 정수로 넣었으나 기본형으로 float64가 반영되었다.\n",
    "s = pd.Series([1,3,5,np.nan,6,8])\n",
    "s\n",
    "# 데이터 유형중 기초가 되는 것 -> 대괄호로 만드는 파이썬의 list 데이터로 만들수 있음 "
   ]
  },
  {
   "cell_type": "code",
   "execution_count": 7,
   "metadata": {},
   "outputs": [
    {
     "data": {
      "text/plain": [
       "(['A', 'B', 'C', 'D'],\n",
       " DatetimeIndex(['2019-08-12', '2019-08-13', '2019-08-14', '2019-08-15',\n",
       "                '2019-08-16', '2019-08-17', '2019-08-18'],\n",
       "               dtype='datetime64[ns]', freq='D'))"
      ]
     },
     "execution_count": 7,
     "metadata": {},
     "output_type": "execute_result"
    }
   ],
   "source": [
    "# DataFrame\n",
    "# 인덱스와 컬럼이 존재하는 자료구조\n",
    "cols   = list('ABCD') # ['A','B','C','D']\n",
    "indexs = pd.date_range('20190812', periods=7)\n",
    "\n",
    "# 컬럼 4개, 인덱스 7개\n",
    "cols, indexs"
   ]
  },
  {
   "cell_type": "code",
   "execution_count": 8,
   "metadata": {},
   "outputs": [
    {
     "data": {
      "text/plain": [
       "(array([[-0.14732744, -0.37400381,  0.0036363 ,  0.04567961],\n",
       "        [ 0.33400227, -1.0709167 ,  0.4878151 ,  1.37947213],\n",
       "        [-0.95636274, -0.52297467,  0.20738624, -1.32708231],\n",
       "        [ 0.27119255, -0.76836801,  1.13215647,  1.45282316],\n",
       "        [ 0.42313991, -0.14819821, -0.10287676, -0.82830324],\n",
       "        [ 0.93592543, -0.80372264, -1.5430355 , -1.01882638],\n",
       "        [ 0.43870656, -0.71827096, -0.27821445,  0.47521379]]), (7, 4))"
      ]
     },
     "execution_count": 8,
     "metadata": {},
     "output_type": "execute_result"
    }
   ],
   "source": [
    "# 데이터는  shape => (7,4)\n",
    "datas = np.random.randn(7,4)\n",
    "datas, datas.shape"
   ]
  },
  {
   "cell_type": "code",
   "execution_count": 6,
   "metadata": {},
   "outputs": [
    {
     "data": {
      "text/html": [
       "<div>\n",
       "<style scoped>\n",
       "    .dataframe tbody tr th:only-of-type {\n",
       "        vertical-align: middle;\n",
       "    }\n",
       "\n",
       "    .dataframe tbody tr th {\n",
       "        vertical-align: top;\n",
       "    }\n",
       "\n",
       "    .dataframe thead th {\n",
       "        text-align: right;\n",
       "    }\n",
       "</style>\n",
       "<table border=\"1\" class=\"dataframe\">\n",
       "  <thead>\n",
       "    <tr style=\"text-align: right;\">\n",
       "      <th></th>\n",
       "      <th>A</th>\n",
       "      <th>B</th>\n",
       "      <th>C</th>\n",
       "      <th>D</th>\n",
       "    </tr>\n",
       "  </thead>\n",
       "  <tbody>\n",
       "    <tr>\n",
       "      <th>2018-12-14</th>\n",
       "      <td>-0.297869</td>\n",
       "      <td>0.351047</td>\n",
       "      <td>1.279110</td>\n",
       "      <td>-0.220042</td>\n",
       "    </tr>\n",
       "    <tr>\n",
       "      <th>2018-12-15</th>\n",
       "      <td>-0.586203</td>\n",
       "      <td>-0.193220</td>\n",
       "      <td>0.148834</td>\n",
       "      <td>-0.154038</td>\n",
       "    </tr>\n",
       "    <tr>\n",
       "      <th>2018-12-16</th>\n",
       "      <td>0.929718</td>\n",
       "      <td>-0.304167</td>\n",
       "      <td>1.123938</td>\n",
       "      <td>-0.831542</td>\n",
       "    </tr>\n",
       "    <tr>\n",
       "      <th>2018-12-17</th>\n",
       "      <td>0.206973</td>\n",
       "      <td>1.448165</td>\n",
       "      <td>-1.521021</td>\n",
       "      <td>1.817648</td>\n",
       "    </tr>\n",
       "    <tr>\n",
       "      <th>2018-12-18</th>\n",
       "      <td>-0.311712</td>\n",
       "      <td>-0.923587</td>\n",
       "      <td>0.317474</td>\n",
       "      <td>-0.453546</td>\n",
       "    </tr>\n",
       "    <tr>\n",
       "      <th>2018-12-19</th>\n",
       "      <td>-0.017377</td>\n",
       "      <td>0.212765</td>\n",
       "      <td>0.672226</td>\n",
       "      <td>-1.221966</td>\n",
       "    </tr>\n",
       "  </tbody>\n",
       "</table>\n",
       "</div>"
      ],
      "text/plain": [
       "                   A         B         C         D\n",
       "2018-12-14 -0.297869  0.351047  1.279110 -0.220042\n",
       "2018-12-15 -0.586203 -0.193220  0.148834 -0.154038\n",
       "2018-12-16  0.929718 -0.304167  1.123938 -0.831542\n",
       "2018-12-17  0.206973  1.448165 -1.521021  1.817648\n",
       "2018-12-18 -0.311712 -0.923587  0.317474 -0.453546\n",
       "2018-12-19 -0.017377  0.212765  0.672226 -1.221966"
      ]
     },
     "execution_count": 6,
     "metadata": {},
     "output_type": "execute_result"
    }
   ],
   "source": [
    "# df 생성\n",
    "df = pd.DataFrame(np.random.randn(6,4),index=dates, columns=['A','B','C','D'])\n",
    "df"
   ]
  },
  {
   "cell_type": "markdown",
   "metadata": {},
   "source": [
    "- **데이터가 로드된후 DataFrame을 만든후 점검할 사항**"
   ]
  },
  {
   "cell_type": "code",
   "execution_count": 9,
   "metadata": {},
   "outputs": [
    {
     "data": {
      "text/html": [
       "<div>\n",
       "<style scoped>\n",
       "    .dataframe tbody tr th:only-of-type {\n",
       "        vertical-align: middle;\n",
       "    }\n",
       "\n",
       "    .dataframe tbody tr th {\n",
       "        vertical-align: top;\n",
       "    }\n",
       "\n",
       "    .dataframe thead th {\n",
       "        text-align: right;\n",
       "    }\n",
       "</style>\n",
       "<table border=\"1\" class=\"dataframe\">\n",
       "  <thead>\n",
       "    <tr style=\"text-align: right;\">\n",
       "      <th></th>\n",
       "      <th>A</th>\n",
       "      <th>B</th>\n",
       "      <th>C</th>\n",
       "      <th>D</th>\n",
       "    </tr>\n",
       "  </thead>\n",
       "  <tbody>\n",
       "    <tr>\n",
       "      <th>2018-12-14</th>\n",
       "      <td>-0.297869</td>\n",
       "      <td>0.351047</td>\n",
       "      <td>1.279110</td>\n",
       "      <td>-0.220042</td>\n",
       "    </tr>\n",
       "    <tr>\n",
       "      <th>2018-12-15</th>\n",
       "      <td>-0.586203</td>\n",
       "      <td>-0.193220</td>\n",
       "      <td>0.148834</td>\n",
       "      <td>-0.154038</td>\n",
       "    </tr>\n",
       "    <tr>\n",
       "      <th>2018-12-16</th>\n",
       "      <td>0.929718</td>\n",
       "      <td>-0.304167</td>\n",
       "      <td>1.123938</td>\n",
       "      <td>-0.831542</td>\n",
       "    </tr>\n",
       "  </tbody>\n",
       "</table>\n",
       "</div>"
      ],
      "text/plain": [
       "                   A         B         C         D\n",
       "2018-12-14 -0.297869  0.351047  1.279110 -0.220042\n",
       "2018-12-15 -0.586203 -0.193220  0.148834 -0.154038\n",
       "2018-12-16  0.929718 -0.304167  1.123938 -0.831542"
      ]
     },
     "execution_count": 9,
     "metadata": {},
     "output_type": "execute_result"
    }
   ],
   "source": [
    "df.head(3)"
   ]
  },
  {
   "cell_type": "code",
   "execution_count": 10,
   "metadata": {},
   "outputs": [
    {
     "data": {
      "text/html": [
       "<div>\n",
       "<style scoped>\n",
       "    .dataframe tbody tr th:only-of-type {\n",
       "        vertical-align: middle;\n",
       "    }\n",
       "\n",
       "    .dataframe tbody tr th {\n",
       "        vertical-align: top;\n",
       "    }\n",
       "\n",
       "    .dataframe thead th {\n",
       "        text-align: right;\n",
       "    }\n",
       "</style>\n",
       "<table border=\"1\" class=\"dataframe\">\n",
       "  <thead>\n",
       "    <tr style=\"text-align: right;\">\n",
       "      <th></th>\n",
       "      <th>A</th>\n",
       "      <th>B</th>\n",
       "      <th>C</th>\n",
       "      <th>D</th>\n",
       "    </tr>\n",
       "  </thead>\n",
       "  <tbody>\n",
       "    <tr>\n",
       "      <th>2018-12-17</th>\n",
       "      <td>0.206973</td>\n",
       "      <td>1.448165</td>\n",
       "      <td>-1.521021</td>\n",
       "      <td>1.817648</td>\n",
       "    </tr>\n",
       "    <tr>\n",
       "      <th>2018-12-18</th>\n",
       "      <td>-0.311712</td>\n",
       "      <td>-0.923587</td>\n",
       "      <td>0.317474</td>\n",
       "      <td>-0.453546</td>\n",
       "    </tr>\n",
       "    <tr>\n",
       "      <th>2018-12-19</th>\n",
       "      <td>-0.017377</td>\n",
       "      <td>0.212765</td>\n",
       "      <td>0.672226</td>\n",
       "      <td>-1.221966</td>\n",
       "    </tr>\n",
       "  </tbody>\n",
       "</table>\n",
       "</div>"
      ],
      "text/plain": [
       "                   A         B         C         D\n",
       "2018-12-17  0.206973  1.448165 -1.521021  1.817648\n",
       "2018-12-18 -0.311712 -0.923587  0.317474 -0.453546\n",
       "2018-12-19 -0.017377  0.212765  0.672226 -1.221966"
      ]
     },
     "execution_count": 10,
     "metadata": {},
     "output_type": "execute_result"
    }
   ],
   "source": [
    "df.tail(3)"
   ]
  },
  {
   "cell_type": "code",
   "execution_count": 11,
   "metadata": {},
   "outputs": [
    {
     "data": {
      "text/plain": [
       "Index(['A', 'B', 'C', 'D'], dtype='object')"
      ]
     },
     "execution_count": 11,
     "metadata": {},
     "output_type": "execute_result"
    }
   ],
   "source": [
    "df.columns"
   ]
  },
  {
   "cell_type": "code",
   "execution_count": 12,
   "metadata": {},
   "outputs": [
    {
     "data": {
      "text/plain": [
       "DatetimeIndex(['2018-12-14', '2018-12-15', '2018-12-16', '2018-12-17',\n",
       "               '2018-12-18', '2018-12-19'],\n",
       "              dtype='datetime64[ns]', freq='D')"
      ]
     },
     "execution_count": 12,
     "metadata": {},
     "output_type": "execute_result"
    }
   ],
   "source": [
    "df.index"
   ]
  },
  {
   "cell_type": "code",
   "execution_count": 13,
   "metadata": {},
   "outputs": [
    {
     "data": {
      "text/plain": [
       "numpy.ndarray"
      ]
     },
     "execution_count": 13,
     "metadata": {},
     "output_type": "execute_result"
    }
   ],
   "source": [
    "type(df.values)"
   ]
  },
  {
   "cell_type": "code",
   "execution_count": 14,
   "metadata": {},
   "outputs": [
    {
     "data": {
      "text/plain": [
       "(6, 4)"
      ]
     },
     "execution_count": 14,
     "metadata": {},
     "output_type": "execute_result"
    }
   ],
   "source": [
    "# 속성-크기\n",
    "df.shape\n",
    "# 1차원데이터로 총6개의 데이터가 존재"
   ]
  },
  {
   "cell_type": "code",
   "execution_count": 15,
   "metadata": {},
   "outputs": [
    {
     "name": "stdout",
     "output_type": "stream",
     "text": [
      "<class 'pandas.core.frame.DataFrame'>\n",
      "DatetimeIndex: 6 entries, 2018-12-14 to 2018-12-19\n",
      "Freq: D\n",
      "Data columns (total 4 columns):\n",
      "A    6 non-null float64\n",
      "B    6 non-null float64\n",
      "C    6 non-null float64\n",
      "D    6 non-null float64\n",
      "dtypes: float64(4)\n",
      "memory usage: 240.0 bytes\n"
     ]
    }
   ],
   "source": [
    "# df의 개요\n",
    "df.info()"
   ]
  },
  {
   "cell_type": "code",
   "execution_count": 16,
   "metadata": {},
   "outputs": [
    {
     "data": {
      "text/html": [
       "<div>\n",
       "<style scoped>\n",
       "    .dataframe tbody tr th:only-of-type {\n",
       "        vertical-align: middle;\n",
       "    }\n",
       "\n",
       "    .dataframe tbody tr th {\n",
       "        vertical-align: top;\n",
       "    }\n",
       "\n",
       "    .dataframe thead th {\n",
       "        text-align: right;\n",
       "    }\n",
       "</style>\n",
       "<table border=\"1\" class=\"dataframe\">\n",
       "  <thead>\n",
       "    <tr style=\"text-align: right;\">\n",
       "      <th></th>\n",
       "      <th>A</th>\n",
       "      <th>B</th>\n",
       "      <th>C</th>\n",
       "      <th>D</th>\n",
       "    </tr>\n",
       "  </thead>\n",
       "  <tbody>\n",
       "    <tr>\n",
       "      <th>count</th>\n",
       "      <td>6.000000</td>\n",
       "      <td>6.000000</td>\n",
       "      <td>6.000000</td>\n",
       "      <td>6.000000</td>\n",
       "    </tr>\n",
       "    <tr>\n",
       "      <th>mean</th>\n",
       "      <td>-0.012745</td>\n",
       "      <td>0.098501</td>\n",
       "      <td>0.336760</td>\n",
       "      <td>-0.177247</td>\n",
       "    </tr>\n",
       "    <tr>\n",
       "      <th>std</th>\n",
       "      <td>0.535923</td>\n",
       "      <td>0.798791</td>\n",
       "      <td>1.010668</td>\n",
       "      <td>1.056206</td>\n",
       "    </tr>\n",
       "    <tr>\n",
       "      <th>min</th>\n",
       "      <td>-0.586203</td>\n",
       "      <td>-0.923587</td>\n",
       "      <td>-1.521021</td>\n",
       "      <td>-1.221966</td>\n",
       "    </tr>\n",
       "    <tr>\n",
       "      <th>25%</th>\n",
       "      <td>-0.308251</td>\n",
       "      <td>-0.276430</td>\n",
       "      <td>0.190994</td>\n",
       "      <td>-0.737043</td>\n",
       "    </tr>\n",
       "    <tr>\n",
       "      <th>50%</th>\n",
       "      <td>-0.157623</td>\n",
       "      <td>0.009773</td>\n",
       "      <td>0.494850</td>\n",
       "      <td>-0.336794</td>\n",
       "    </tr>\n",
       "    <tr>\n",
       "      <th>75%</th>\n",
       "      <td>0.150886</td>\n",
       "      <td>0.316477</td>\n",
       "      <td>1.011010</td>\n",
       "      <td>-0.170539</td>\n",
       "    </tr>\n",
       "    <tr>\n",
       "      <th>max</th>\n",
       "      <td>0.929718</td>\n",
       "      <td>1.448165</td>\n",
       "      <td>1.279110</td>\n",
       "      <td>1.817648</td>\n",
       "    </tr>\n",
       "  </tbody>\n",
       "</table>\n",
       "</div>"
      ],
      "text/plain": [
       "              A         B         C         D\n",
       "count  6.000000  6.000000  6.000000  6.000000\n",
       "mean  -0.012745  0.098501  0.336760 -0.177247\n",
       "std    0.535923  0.798791  1.010668  1.056206\n",
       "min   -0.586203 -0.923587 -1.521021 -1.221966\n",
       "25%   -0.308251 -0.276430  0.190994 -0.737043\n",
       "50%   -0.157623  0.009773  0.494850 -0.336794\n",
       "75%    0.150886  0.316477  1.011010 -0.170539\n",
       "max    0.929718  1.448165  1.279110  1.817648"
      ]
     },
     "execution_count": 16,
     "metadata": {},
     "output_type": "execute_result"
    }
   ],
   "source": [
    "# 통계요약 : 개수, 평균, 표준편차, 최소, 25%, 50%, 75%, 최대\n",
    "df.describe()"
   ]
  },
  {
   "cell_type": "code",
   "execution_count": 17,
   "metadata": {},
   "outputs": [
    {
     "data": {
      "text/html": [
       "<div>\n",
       "<style scoped>\n",
       "    .dataframe tbody tr th:only-of-type {\n",
       "        vertical-align: middle;\n",
       "    }\n",
       "\n",
       "    .dataframe tbody tr th {\n",
       "        vertical-align: top;\n",
       "    }\n",
       "\n",
       "    .dataframe thead th {\n",
       "        text-align: right;\n",
       "    }\n",
       "</style>\n",
       "<table border=\"1\" class=\"dataframe\">\n",
       "  <thead>\n",
       "    <tr style=\"text-align: right;\">\n",
       "      <th></th>\n",
       "      <th>A</th>\n",
       "      <th>B</th>\n",
       "      <th>C</th>\n",
       "      <th>D</th>\n",
       "    </tr>\n",
       "  </thead>\n",
       "  <tbody>\n",
       "    <tr>\n",
       "      <th>2018-12-17</th>\n",
       "      <td>0.206973</td>\n",
       "      <td>1.448165</td>\n",
       "      <td>-1.521021</td>\n",
       "      <td>1.817648</td>\n",
       "    </tr>\n",
       "    <tr>\n",
       "      <th>2018-12-14</th>\n",
       "      <td>-0.297869</td>\n",
       "      <td>0.351047</td>\n",
       "      <td>1.279110</td>\n",
       "      <td>-0.220042</td>\n",
       "    </tr>\n",
       "    <tr>\n",
       "      <th>2018-12-19</th>\n",
       "      <td>-0.017377</td>\n",
       "      <td>0.212765</td>\n",
       "      <td>0.672226</td>\n",
       "      <td>-1.221966</td>\n",
       "    </tr>\n",
       "    <tr>\n",
       "      <th>2018-12-15</th>\n",
       "      <td>-0.586203</td>\n",
       "      <td>-0.193220</td>\n",
       "      <td>0.148834</td>\n",
       "      <td>-0.154038</td>\n",
       "    </tr>\n",
       "    <tr>\n",
       "      <th>2018-12-16</th>\n",
       "      <td>0.929718</td>\n",
       "      <td>-0.304167</td>\n",
       "      <td>1.123938</td>\n",
       "      <td>-0.831542</td>\n",
       "    </tr>\n",
       "    <tr>\n",
       "      <th>2018-12-18</th>\n",
       "      <td>-0.311712</td>\n",
       "      <td>-0.923587</td>\n",
       "      <td>0.317474</td>\n",
       "      <td>-0.453546</td>\n",
       "    </tr>\n",
       "  </tbody>\n",
       "</table>\n",
       "</div>"
      ],
      "text/plain": [
       "                   A         B         C         D\n",
       "2018-12-17  0.206973  1.448165 -1.521021  1.817648\n",
       "2018-12-14 -0.297869  0.351047  1.279110 -0.220042\n",
       "2018-12-19 -0.017377  0.212765  0.672226 -1.221966\n",
       "2018-12-15 -0.586203 -0.193220  0.148834 -0.154038\n",
       "2018-12-16  0.929718 -0.304167  1.123938 -0.831542\n",
       "2018-12-18 -0.311712 -0.923587  0.317474 -0.453546"
      ]
     },
     "execution_count": 17,
     "metadata": {},
     "output_type": "execute_result"
    }
   ],
   "source": [
    "# B열 기준데이터를 정렬, 내림차순 \n",
    "df.sort_values( by='B', ascending = False )"
   ]
  },
  {
   "cell_type": "code",
   "execution_count": 18,
   "metadata": {},
   "outputs": [
    {
     "data": {
      "text/plain": [
       "2018-12-14   -0.297869\n",
       "2018-12-15   -0.586203\n",
       "2018-12-16    0.929718\n",
       "2018-12-17    0.206973\n",
       "2018-12-18   -0.311712\n",
       "2018-12-19   -0.017377\n",
       "Freq: D, Name: A, dtype: float64"
      ]
     },
     "execution_count": 18,
     "metadata": {},
     "output_type": "execute_result"
    }
   ],
   "source": [
    "# 특정 컬럼의 데이터만 보기 => 인덱싱 => 차원축소\n",
    "df['A']"
   ]
  },
  {
   "cell_type": "code",
   "execution_count": 20,
   "metadata": {},
   "outputs": [
    {
     "data": {
      "text/html": [
       "<div>\n",
       "<style scoped>\n",
       "    .dataframe tbody tr th:only-of-type {\n",
       "        vertical-align: middle;\n",
       "    }\n",
       "\n",
       "    .dataframe tbody tr th {\n",
       "        vertical-align: top;\n",
       "    }\n",
       "\n",
       "    .dataframe thead th {\n",
       "        text-align: right;\n",
       "    }\n",
       "</style>\n",
       "<table border=\"1\" class=\"dataframe\">\n",
       "  <thead>\n",
       "    <tr style=\"text-align: right;\">\n",
       "      <th></th>\n",
       "      <th>A</th>\n",
       "      <th>B</th>\n",
       "      <th>C</th>\n",
       "      <th>D</th>\n",
       "    </tr>\n",
       "  </thead>\n",
       "  <tbody>\n",
       "    <tr>\n",
       "      <th>2018-12-14</th>\n",
       "      <td>-0.297869</td>\n",
       "      <td>0.351047</td>\n",
       "      <td>1.279110</td>\n",
       "      <td>-0.220042</td>\n",
       "    </tr>\n",
       "    <tr>\n",
       "      <th>2018-12-15</th>\n",
       "      <td>-0.586203</td>\n",
       "      <td>-0.193220</td>\n",
       "      <td>0.148834</td>\n",
       "      <td>-0.154038</td>\n",
       "    </tr>\n",
       "  </tbody>\n",
       "</table>\n",
       "</div>"
      ],
      "text/plain": [
       "                   A         B         C         D\n",
       "2018-12-14 -0.297869  0.351047  1.279110 -0.220042\n",
       "2018-12-15 -0.586203 -0.193220  0.148834 -0.154038"
      ]
     },
     "execution_count": 20,
     "metadata": {},
     "output_type": "execute_result"
    }
   ],
   "source": [
    "# 슬라이싱 : 차원유지 \n",
    "df[:2] # 카피동일 "
   ]
  },
  {
   "cell_type": "code",
   "execution_count": 21,
   "metadata": {},
   "outputs": [
    {
     "data": {
      "text/html": [
       "<div>\n",
       "<style scoped>\n",
       "    .dataframe tbody tr th:only-of-type {\n",
       "        vertical-align: middle;\n",
       "    }\n",
       "\n",
       "    .dataframe tbody tr th {\n",
       "        vertical-align: top;\n",
       "    }\n",
       "\n",
       "    .dataframe thead th {\n",
       "        text-align: right;\n",
       "    }\n",
       "</style>\n",
       "<table border=\"1\" class=\"dataframe\">\n",
       "  <thead>\n",
       "    <tr style=\"text-align: right;\">\n",
       "      <th></th>\n",
       "      <th>A</th>\n",
       "      <th>B</th>\n",
       "      <th>C</th>\n",
       "      <th>D</th>\n",
       "    </tr>\n",
       "  </thead>\n",
       "  <tbody>\n",
       "    <tr>\n",
       "      <th>2018-12-15</th>\n",
       "      <td>-0.586203</td>\n",
       "      <td>-0.193220</td>\n",
       "      <td>0.148834</td>\n",
       "      <td>-0.154038</td>\n",
       "    </tr>\n",
       "    <tr>\n",
       "      <th>2018-12-16</th>\n",
       "      <td>0.929718</td>\n",
       "      <td>-0.304167</td>\n",
       "      <td>1.123938</td>\n",
       "      <td>-0.831542</td>\n",
       "    </tr>\n",
       "  </tbody>\n",
       "</table>\n",
       "</div>"
      ],
      "text/plain": [
       "                   A         B         C         D\n",
       "2018-12-15 -0.586203 -0.193220  0.148834 -0.154038\n",
       "2018-12-16  0.929718 -0.304167  1.123938 -0.831542"
      ]
     },
     "execution_count": 21,
     "metadata": {},
     "output_type": "execute_result"
    }
   ],
   "source": [
    "# 데이터가 슬라이싱 되서 나온다 => 차원을 유지해야 하니까\n",
    "# a <= x <b\n",
    "df[1:3] "
   ]
  },
  {
   "cell_type": "code",
   "execution_count": 23,
   "metadata": {},
   "outputs": [
    {
     "data": {
      "text/html": [
       "<div>\n",
       "<style scoped>\n",
       "    .dataframe tbody tr th:only-of-type {\n",
       "        vertical-align: middle;\n",
       "    }\n",
       "\n",
       "    .dataframe tbody tr th {\n",
       "        vertical-align: top;\n",
       "    }\n",
       "\n",
       "    .dataframe thead th {\n",
       "        text-align: right;\n",
       "    }\n",
       "</style>\n",
       "<table border=\"1\" class=\"dataframe\">\n",
       "  <thead>\n",
       "    <tr style=\"text-align: right;\">\n",
       "      <th></th>\n",
       "      <th>A</th>\n",
       "      <th>B</th>\n",
       "      <th>C</th>\n",
       "      <th>D</th>\n",
       "    </tr>\n",
       "  </thead>\n",
       "  <tbody>\n",
       "    <tr>\n",
       "      <th>2018-12-15</th>\n",
       "      <td>-0.586203</td>\n",
       "      <td>-0.193220</td>\n",
       "      <td>0.148834</td>\n",
       "      <td>-0.154038</td>\n",
       "    </tr>\n",
       "    <tr>\n",
       "      <th>2018-12-16</th>\n",
       "      <td>0.929718</td>\n",
       "      <td>-0.304167</td>\n",
       "      <td>1.123938</td>\n",
       "      <td>-0.831542</td>\n",
       "    </tr>\n",
       "  </tbody>\n",
       "</table>\n",
       "</div>"
      ],
      "text/plain": [
       "                   A         B         C         D\n",
       "2018-12-15 -0.586203 -0.193220  0.148834 -0.154038\n",
       "2018-12-16  0.929718 -0.304167  1.123938 -0.831542"
      ]
     },
     "execution_count": 23,
     "metadata": {},
     "output_type": "execute_result"
    }
   ],
   "source": [
    "# 슬라이싱을 하는데 인덱스값이 아닌, 실제값으로 자르기\n",
    "# a <= x <=b\n",
    "df[ '2018-12-15' : '2018-12-16' ]"
   ]
  },
  {
   "cell_type": "markdown",
   "metadata": {},
   "source": [
    "- 전통적인 인덱싱와 슬라이싱을 진행하면 표현의 한계점에 도달\n",
    "- 이를 극복하기 위해서 pandas 만의 데이터 추출법이 추가가 되었다 \n",
    "- loc, iloc <= 2개를 주로 사용한다\n",
    "- 연속데이터에 대한 추출 <-> 비연속 데이터들의 추출법 (펜시인덱싱, 쿼리수행등등)"
   ]
  },
  {
   "cell_type": "markdown",
   "metadata": {},
   "source": [
    "## loc"
   ]
  },
  {
   "cell_type": "code",
   "execution_count": 25,
   "metadata": {},
   "outputs": [
    {
     "data": {
      "text/plain": [
       "(A   -0.586203\n",
       " B   -0.193220\n",
       " C    0.148834\n",
       " D   -0.154038\n",
       " Name: 2018-12-15 00:00:00, dtype: float64, pandas.core.series.Series)"
      ]
     },
     "execution_count": 25,
     "metadata": {},
     "output_type": "execute_result"
    }
   ],
   "source": [
    "# loc : location 정보를 옵션으로 하여 슬라이싱 지원 \n",
    "# loc을 통한 데이터 추출 \n",
    "# df.loc[인덱스 명]\n",
    "df.loc[ '2018-12-15' ], type(df.loc[ '2018-12-16' ])"
   ]
  },
  {
   "cell_type": "code",
   "execution_count": 26,
   "metadata": {},
   "outputs": [
    {
     "data": {
      "text/html": [
       "<div>\n",
       "<style scoped>\n",
       "    .dataframe tbody tr th:only-of-type {\n",
       "        vertical-align: middle;\n",
       "    }\n",
       "\n",
       "    .dataframe tbody tr th {\n",
       "        vertical-align: top;\n",
       "    }\n",
       "\n",
       "    .dataframe thead th {\n",
       "        text-align: right;\n",
       "    }\n",
       "</style>\n",
       "<table border=\"1\" class=\"dataframe\">\n",
       "  <thead>\n",
       "    <tr style=\"text-align: right;\">\n",
       "      <th></th>\n",
       "      <th>A</th>\n",
       "      <th>B</th>\n",
       "      <th>C</th>\n",
       "      <th>D</th>\n",
       "    </tr>\n",
       "  </thead>\n",
       "  <tbody>\n",
       "    <tr>\n",
       "      <th>2018-12-14</th>\n",
       "      <td>-0.297869</td>\n",
       "      <td>0.351047</td>\n",
       "      <td>1.279110</td>\n",
       "      <td>-0.220042</td>\n",
       "    </tr>\n",
       "    <tr>\n",
       "      <th>2018-12-15</th>\n",
       "      <td>-0.586203</td>\n",
       "      <td>-0.193220</td>\n",
       "      <td>0.148834</td>\n",
       "      <td>-0.154038</td>\n",
       "    </tr>\n",
       "    <tr>\n",
       "      <th>2018-12-16</th>\n",
       "      <td>0.929718</td>\n",
       "      <td>-0.304167</td>\n",
       "      <td>1.123938</td>\n",
       "      <td>-0.831542</td>\n",
       "    </tr>\n",
       "    <tr>\n",
       "      <th>2018-12-17</th>\n",
       "      <td>0.206973</td>\n",
       "      <td>1.448165</td>\n",
       "      <td>-1.521021</td>\n",
       "      <td>1.817648</td>\n",
       "    </tr>\n",
       "    <tr>\n",
       "      <th>2018-12-18</th>\n",
       "      <td>-0.311712</td>\n",
       "      <td>-0.923587</td>\n",
       "      <td>0.317474</td>\n",
       "      <td>-0.453546</td>\n",
       "    </tr>\n",
       "    <tr>\n",
       "      <th>2018-12-19</th>\n",
       "      <td>-0.017377</td>\n",
       "      <td>0.212765</td>\n",
       "      <td>0.672226</td>\n",
       "      <td>-1.221966</td>\n",
       "    </tr>\n",
       "  </tbody>\n",
       "</table>\n",
       "</div>"
      ],
      "text/plain": [
       "                   A         B         C         D\n",
       "2018-12-14 -0.297869  0.351047  1.279110 -0.220042\n",
       "2018-12-15 -0.586203 -0.193220  0.148834 -0.154038\n",
       "2018-12-16  0.929718 -0.304167  1.123938 -0.831542\n",
       "2018-12-17  0.206973  1.448165 -1.521021  1.817648\n",
       "2018-12-18 -0.311712 -0.923587  0.317474 -0.453546\n",
       "2018-12-19 -0.017377  0.212765  0.672226 -1.221966"
      ]
     },
     "execution_count": 26,
     "metadata": {},
     "output_type": "execute_result"
    }
   ],
   "source": [
    "# 원본카피\n",
    "df.loc[ : ]"
   ]
  },
  {
   "cell_type": "code",
   "execution_count": 28,
   "metadata": {},
   "outputs": [
    {
     "data": {
      "text/html": [
       "<div>\n",
       "<style scoped>\n",
       "    .dataframe tbody tr th:only-of-type {\n",
       "        vertical-align: middle;\n",
       "    }\n",
       "\n",
       "    .dataframe tbody tr th {\n",
       "        vertical-align: top;\n",
       "    }\n",
       "\n",
       "    .dataframe thead th {\n",
       "        text-align: right;\n",
       "    }\n",
       "</style>\n",
       "<table border=\"1\" class=\"dataframe\">\n",
       "  <thead>\n",
       "    <tr style=\"text-align: right;\">\n",
       "      <th></th>\n",
       "      <th>A</th>\n",
       "      <th>C</th>\n",
       "    </tr>\n",
       "  </thead>\n",
       "  <tbody>\n",
       "    <tr>\n",
       "      <th>2018-12-14</th>\n",
       "      <td>-0.297869</td>\n",
       "      <td>1.279110</td>\n",
       "    </tr>\n",
       "    <tr>\n",
       "      <th>2018-12-15</th>\n",
       "      <td>-0.586203</td>\n",
       "      <td>0.148834</td>\n",
       "    </tr>\n",
       "    <tr>\n",
       "      <th>2018-12-16</th>\n",
       "      <td>0.929718</td>\n",
       "      <td>1.123938</td>\n",
       "    </tr>\n",
       "    <tr>\n",
       "      <th>2018-12-17</th>\n",
       "      <td>0.206973</td>\n",
       "      <td>-1.521021</td>\n",
       "    </tr>\n",
       "    <tr>\n",
       "      <th>2018-12-18</th>\n",
       "      <td>-0.311712</td>\n",
       "      <td>0.317474</td>\n",
       "    </tr>\n",
       "    <tr>\n",
       "      <th>2018-12-19</th>\n",
       "      <td>-0.017377</td>\n",
       "      <td>0.672226</td>\n",
       "    </tr>\n",
       "  </tbody>\n",
       "</table>\n",
       "</div>"
      ],
      "text/plain": [
       "                   A         C\n",
       "2018-12-14 -0.297869  1.279110\n",
       "2018-12-15 -0.586203  0.148834\n",
       "2018-12-16  0.929718  1.123938\n",
       "2018-12-17  0.206973 -1.521021\n",
       "2018-12-18 -0.311712  0.317474\n",
       "2018-12-19 -0.017377  0.672226"
      ]
     },
     "execution_count": 28,
     "metadata": {},
     "output_type": "execute_result"
    }
   ],
   "source": [
    "# 인덱스쪽은 전부 포함시키고(1차원), 컬럼은 A,C만 포함(2차원)\n",
    "df.loc[ : , ['A','C'] ]"
   ]
  },
  {
   "cell_type": "code",
   "execution_count": 29,
   "metadata": {},
   "outputs": [
    {
     "data": {
      "text/plain": [
       "2018-12-14   -0.297869\n",
       "2018-12-15   -0.586203\n",
       "2018-12-16    0.929718\n",
       "2018-12-17    0.206973\n",
       "2018-12-18   -0.311712\n",
       "2018-12-19   -0.017377\n",
       "Freq: D, Name: A, dtype: float64"
      ]
     },
     "execution_count": 29,
     "metadata": {},
     "output_type": "execute_result"
    }
   ],
   "source": [
    "# 차원축소\n",
    "df.loc[ : , 'A' ]"
   ]
  },
  {
   "cell_type": "code",
   "execution_count": 30,
   "metadata": {},
   "outputs": [
    {
     "data": {
      "text/html": [
       "<div>\n",
       "<style scoped>\n",
       "    .dataframe tbody tr th:only-of-type {\n",
       "        vertical-align: middle;\n",
       "    }\n",
       "\n",
       "    .dataframe tbody tr th {\n",
       "        vertical-align: top;\n",
       "    }\n",
       "\n",
       "    .dataframe thead th {\n",
       "        text-align: right;\n",
       "    }\n",
       "</style>\n",
       "<table border=\"1\" class=\"dataframe\">\n",
       "  <thead>\n",
       "    <tr style=\"text-align: right;\">\n",
       "      <th></th>\n",
       "      <th>A</th>\n",
       "    </tr>\n",
       "  </thead>\n",
       "  <tbody>\n",
       "    <tr>\n",
       "      <th>2018-12-14</th>\n",
       "      <td>-0.297869</td>\n",
       "    </tr>\n",
       "    <tr>\n",
       "      <th>2018-12-15</th>\n",
       "      <td>-0.586203</td>\n",
       "    </tr>\n",
       "    <tr>\n",
       "      <th>2018-12-16</th>\n",
       "      <td>0.929718</td>\n",
       "    </tr>\n",
       "    <tr>\n",
       "      <th>2018-12-17</th>\n",
       "      <td>0.206973</td>\n",
       "    </tr>\n",
       "    <tr>\n",
       "      <th>2018-12-18</th>\n",
       "      <td>-0.311712</td>\n",
       "    </tr>\n",
       "    <tr>\n",
       "      <th>2018-12-19</th>\n",
       "      <td>-0.017377</td>\n",
       "    </tr>\n",
       "  </tbody>\n",
       "</table>\n",
       "</div>"
      ],
      "text/plain": [
       "                   A\n",
       "2018-12-14 -0.297869\n",
       "2018-12-15 -0.586203\n",
       "2018-12-16  0.929718\n",
       "2018-12-17  0.206973\n",
       "2018-12-18 -0.311712\n",
       "2018-12-19 -0.017377"
      ]
     },
     "execution_count": 30,
     "metadata": {},
     "output_type": "execute_result"
    }
   ],
   "source": [
    "# 차원유지\n",
    "df.loc[ : , ['A'] ]"
   ]
  },
  {
   "cell_type": "code",
   "execution_count": 31,
   "metadata": {},
   "outputs": [
    {
     "data": {
      "text/html": [
       "<div>\n",
       "<style scoped>\n",
       "    .dataframe tbody tr th:only-of-type {\n",
       "        vertical-align: middle;\n",
       "    }\n",
       "\n",
       "    .dataframe tbody tr th {\n",
       "        vertical-align: top;\n",
       "    }\n",
       "\n",
       "    .dataframe thead th {\n",
       "        text-align: right;\n",
       "    }\n",
       "</style>\n",
       "<table border=\"1\" class=\"dataframe\">\n",
       "  <thead>\n",
       "    <tr style=\"text-align: right;\">\n",
       "      <th></th>\n",
       "      <th>A</th>\n",
       "      <th>C</th>\n",
       "    </tr>\n",
       "  </thead>\n",
       "  <tbody>\n",
       "    <tr>\n",
       "      <th>2018-12-15</th>\n",
       "      <td>-0.586203</td>\n",
       "      <td>0.148834</td>\n",
       "    </tr>\n",
       "    <tr>\n",
       "      <th>2018-12-16</th>\n",
       "      <td>0.929718</td>\n",
       "      <td>1.123938</td>\n",
       "    </tr>\n",
       "    <tr>\n",
       "      <th>2018-12-17</th>\n",
       "      <td>0.206973</td>\n",
       "      <td>-1.521021</td>\n",
       "    </tr>\n",
       "  </tbody>\n",
       "</table>\n",
       "</div>"
      ],
      "text/plain": [
       "                   A         C\n",
       "2018-12-15 -0.586203  0.148834\n",
       "2018-12-16  0.929718  1.123938\n",
       "2018-12-17  0.206973 -1.521021"
      ]
     },
     "execution_count": 31,
     "metadata": {},
     "output_type": "execute_result"
    }
   ],
   "source": [
    "df.loc[ '2018-12-15':'2018-12-17' , ['A','C'] ]"
   ]
  },
  {
   "cell_type": "code",
   "execution_count": 36,
   "metadata": {},
   "outputs": [
    {
     "data": {
      "text/plain": [
       "A   -0.586203\n",
       "C    0.148834\n",
       "Name: 2018-12-15 00:00:00, dtype: float64"
      ]
     },
     "execution_count": 36,
     "metadata": {},
     "output_type": "execute_result"
    }
   ],
   "source": [
    "# 차원축소 -> 인덱스를 한개만 지정\n",
    "df.loc[ '2018-12-15' , ['A','C'] ]"
   ]
  },
  {
   "cell_type": "code",
   "execution_count": 41,
   "metadata": {},
   "outputs": [
    {
     "data": {
      "text/plain": [
       "-0.586202811428424"
      ]
     },
     "execution_count": 41,
     "metadata": {},
     "output_type": "execute_result"
    }
   ],
   "source": [
    "# 차원축소가 2회 진행 -> 스칼라(값)\n",
    "df.loc['2018-12-15', 'A' ]"
   ]
  },
  {
   "cell_type": "markdown",
   "metadata": {},
   "source": [
    "### iloc\n",
    "\n",
    "- 펜시인덱싱과 유사 하다\n",
    "- 행과 열의 번호를 이용하여 데이터를 접근하는 방식\n",
    "- i-> index"
   ]
  },
  {
   "cell_type": "code",
   "execution_count": 44,
   "metadata": {},
   "outputs": [
    {
     "data": {
      "text/plain": [
       "A   -0.586203\n",
       "B   -0.193220\n",
       "C    0.148834\n",
       "D   -0.154038\n",
       "Name: 2018-12-15 00:00:00, dtype: float64"
      ]
     },
     "execution_count": 44,
     "metadata": {},
     "output_type": "execute_result"
    }
   ],
   "source": [
    "# 2018-12-15 자 데이터 추출\n",
    "# 1 => 인덱스값이 1인 데이터\n",
    "df.iloc[ 1 ] "
   ]
  },
  {
   "cell_type": "code",
   "execution_count": 45,
   "metadata": {},
   "outputs": [
    {
     "data": {
      "text/html": [
       "<div>\n",
       "<style scoped>\n",
       "    .dataframe tbody tr th:only-of-type {\n",
       "        vertical-align: middle;\n",
       "    }\n",
       "\n",
       "    .dataframe tbody tr th {\n",
       "        vertical-align: top;\n",
       "    }\n",
       "\n",
       "    .dataframe thead th {\n",
       "        text-align: right;\n",
       "    }\n",
       "</style>\n",
       "<table border=\"1\" class=\"dataframe\">\n",
       "  <thead>\n",
       "    <tr style=\"text-align: right;\">\n",
       "      <th></th>\n",
       "      <th>B</th>\n",
       "      <th>C</th>\n",
       "    </tr>\n",
       "  </thead>\n",
       "  <tbody>\n",
       "    <tr>\n",
       "      <th>2018-12-15</th>\n",
       "      <td>-0.193220</td>\n",
       "      <td>0.148834</td>\n",
       "    </tr>\n",
       "    <tr>\n",
       "      <th>2018-12-16</th>\n",
       "      <td>-0.304167</td>\n",
       "      <td>1.123938</td>\n",
       "    </tr>\n",
       "  </tbody>\n",
       "</table>\n",
       "</div>"
      ],
      "text/plain": [
       "                   B         C\n",
       "2018-12-15 -0.193220  0.148834\n",
       "2018-12-16 -0.304167  1.123938"
      ]
     },
     "execution_count": 45,
     "metadata": {},
     "output_type": "execute_result"
    }
   ],
   "source": [
    "# iloc 슬라이싱\n",
    "# a <= index < b,   c <= column < d\n",
    "df.iloc[ 1:3, 1:3 ]"
   ]
  },
  {
   "cell_type": "code",
   "execution_count": 46,
   "metadata": {},
   "outputs": [
    {
     "data": {
      "text/html": [
       "<div>\n",
       "<style scoped>\n",
       "    .dataframe tbody tr th:only-of-type {\n",
       "        vertical-align: middle;\n",
       "    }\n",
       "\n",
       "    .dataframe tbody tr th {\n",
       "        vertical-align: top;\n",
       "    }\n",
       "\n",
       "    .dataframe thead th {\n",
       "        text-align: right;\n",
       "    }\n",
       "</style>\n",
       "<table border=\"1\" class=\"dataframe\">\n",
       "  <thead>\n",
       "    <tr style=\"text-align: right;\">\n",
       "      <th></th>\n",
       "      <th>A</th>\n",
       "      <th>C</th>\n",
       "    </tr>\n",
       "  </thead>\n",
       "  <tbody>\n",
       "    <tr>\n",
       "      <th>2018-12-15</th>\n",
       "      <td>-0.586203</td>\n",
       "      <td>0.148834</td>\n",
       "    </tr>\n",
       "    <tr>\n",
       "      <th>2018-12-18</th>\n",
       "      <td>-0.311712</td>\n",
       "      <td>0.317474</td>\n",
       "    </tr>\n",
       "    <tr>\n",
       "      <th>2018-12-16</th>\n",
       "      <td>0.929718</td>\n",
       "      <td>1.123938</td>\n",
       "    </tr>\n",
       "  </tbody>\n",
       "</table>\n",
       "</div>"
      ],
      "text/plain": [
       "                   A         C\n",
       "2018-12-15 -0.586203  0.148834\n",
       "2018-12-18 -0.311712  0.317474\n",
       "2018-12-16  0.929718  1.123938"
      ]
     },
     "execution_count": 46,
     "metadata": {},
     "output_type": "execute_result"
    }
   ],
   "source": [
    "# iloc + 펜시인덱싱 기법 사용 (인덱스, 컬럼을 비연속적 위치를 나열)\n",
    "df.iloc[ [1,4,2] , [0,2] ]"
   ]
  },
  {
   "cell_type": "code",
   "execution_count": 48,
   "metadata": {},
   "outputs": [
    {
     "data": {
      "text/html": [
       "<div>\n",
       "<style scoped>\n",
       "    .dataframe tbody tr th:only-of-type {\n",
       "        vertical-align: middle;\n",
       "    }\n",
       "\n",
       "    .dataframe tbody tr th {\n",
       "        vertical-align: top;\n",
       "    }\n",
       "\n",
       "    .dataframe thead th {\n",
       "        text-align: right;\n",
       "    }\n",
       "</style>\n",
       "<table border=\"1\" class=\"dataframe\">\n",
       "  <thead>\n",
       "    <tr style=\"text-align: right;\">\n",
       "      <th></th>\n",
       "      <th>A</th>\n",
       "      <th>B</th>\n",
       "      <th>C</th>\n",
       "      <th>D</th>\n",
       "    </tr>\n",
       "  </thead>\n",
       "  <tbody>\n",
       "    <tr>\n",
       "      <th>2018-12-14</th>\n",
       "      <td>-0.297869</td>\n",
       "      <td>0.351047</td>\n",
       "      <td>1.279110</td>\n",
       "      <td>-0.220042</td>\n",
       "    </tr>\n",
       "    <tr>\n",
       "      <th>2018-12-15</th>\n",
       "      <td>-0.586203</td>\n",
       "      <td>-0.193220</td>\n",
       "      <td>0.148834</td>\n",
       "      <td>-0.154038</td>\n",
       "    </tr>\n",
       "    <tr>\n",
       "      <th>2018-12-16</th>\n",
       "      <td>0.929718</td>\n",
       "      <td>-0.304167</td>\n",
       "      <td>1.123938</td>\n",
       "      <td>-0.831542</td>\n",
       "    </tr>\n",
       "    <tr>\n",
       "      <th>2018-12-18</th>\n",
       "      <td>-0.311712</td>\n",
       "      <td>-0.923587</td>\n",
       "      <td>0.317474</td>\n",
       "      <td>-0.453546</td>\n",
       "    </tr>\n",
       "    <tr>\n",
       "      <th>2018-12-19</th>\n",
       "      <td>-0.017377</td>\n",
       "      <td>0.212765</td>\n",
       "      <td>0.672226</td>\n",
       "      <td>-1.221966</td>\n",
       "    </tr>\n",
       "  </tbody>\n",
       "</table>\n",
       "</div>"
      ],
      "text/plain": [
       "                   A         B         C         D\n",
       "2018-12-14 -0.297869  0.351047  1.279110 -0.220042\n",
       "2018-12-15 -0.586203 -0.193220  0.148834 -0.154038\n",
       "2018-12-16  0.929718 -0.304167  1.123938 -0.831542\n",
       "2018-12-18 -0.311712 -0.923587  0.317474 -0.453546\n",
       "2018-12-19 -0.017377  0.212765  0.672226 -1.221966"
      ]
     },
     "execution_count": 48,
     "metadata": {},
     "output_type": "execute_result"
    }
   ],
   "source": [
    "# 특정 조건에 만족하는 데이터만 추출\n",
    "# 데이터프레임이 생성되면 컬러명은 맴버 변수로 자동생성됨\n",
    "# C컬럼에 존재하는 데이터중에 양수만(양수면 True, 0이하면 False)\n",
    "# 조건을 부여하여 블리언 데이터를 만들어 참만 포함시키는 방식 : 블리언 인덱싱\n",
    "# [ T, F, F, F, T, T, T ] 데이터를  and하면 참만 살아남아서 아래과 같은 결과를 발생\n",
    "# df에 식을 치면 => 전체 구성원에 전부다 연산이 진행된다 \n",
    "# 행렬 (연산) 값 => 각 구성원에 일일이 다 연산하는것과 동일\n",
    "df[ df.C > 0 ]"
   ]
  },
  {
   "cell_type": "code",
   "execution_count": 49,
   "metadata": {},
   "outputs": [
    {
     "data": {
      "text/html": [
       "<div>\n",
       "<style scoped>\n",
       "    .dataframe tbody tr th:only-of-type {\n",
       "        vertical-align: middle;\n",
       "    }\n",
       "\n",
       "    .dataframe tbody tr th {\n",
       "        vertical-align: top;\n",
       "    }\n",
       "\n",
       "    .dataframe thead th {\n",
       "        text-align: right;\n",
       "    }\n",
       "</style>\n",
       "<table border=\"1\" class=\"dataframe\">\n",
       "  <thead>\n",
       "    <tr style=\"text-align: right;\">\n",
       "      <th></th>\n",
       "      <th>A</th>\n",
       "      <th>B</th>\n",
       "      <th>C</th>\n",
       "      <th>D</th>\n",
       "    </tr>\n",
       "  </thead>\n",
       "  <tbody>\n",
       "    <tr>\n",
       "      <th>2018-12-14</th>\n",
       "      <td>NaN</td>\n",
       "      <td>0.351047</td>\n",
       "      <td>1.279110</td>\n",
       "      <td>NaN</td>\n",
       "    </tr>\n",
       "    <tr>\n",
       "      <th>2018-12-15</th>\n",
       "      <td>NaN</td>\n",
       "      <td>NaN</td>\n",
       "      <td>0.148834</td>\n",
       "      <td>NaN</td>\n",
       "    </tr>\n",
       "    <tr>\n",
       "      <th>2018-12-16</th>\n",
       "      <td>0.929718</td>\n",
       "      <td>NaN</td>\n",
       "      <td>1.123938</td>\n",
       "      <td>NaN</td>\n",
       "    </tr>\n",
       "    <tr>\n",
       "      <th>2018-12-17</th>\n",
       "      <td>0.206973</td>\n",
       "      <td>1.448165</td>\n",
       "      <td>NaN</td>\n",
       "      <td>1.817648</td>\n",
       "    </tr>\n",
       "    <tr>\n",
       "      <th>2018-12-18</th>\n",
       "      <td>NaN</td>\n",
       "      <td>NaN</td>\n",
       "      <td>0.317474</td>\n",
       "      <td>NaN</td>\n",
       "    </tr>\n",
       "    <tr>\n",
       "      <th>2018-12-19</th>\n",
       "      <td>NaN</td>\n",
       "      <td>0.212765</td>\n",
       "      <td>0.672226</td>\n",
       "      <td>NaN</td>\n",
       "    </tr>\n",
       "  </tbody>\n",
       "</table>\n",
       "</div>"
      ],
      "text/plain": [
       "                   A         B         C         D\n",
       "2018-12-14       NaN  0.351047  1.279110       NaN\n",
       "2018-12-15       NaN       NaN  0.148834       NaN\n",
       "2018-12-16  0.929718       NaN  1.123938       NaN\n",
       "2018-12-17  0.206973  1.448165       NaN  1.817648\n",
       "2018-12-18       NaN       NaN  0.317474       NaN\n",
       "2018-12-19       NaN  0.212765  0.672226       NaN"
      ]
     },
     "execution_count": 49,
     "metadata": {},
     "output_type": "execute_result"
    }
   ],
   "source": [
    "#데이터 전체를 기준으로 0보다 큰가 ? 0보다 같거나 작은 데이터들은 ? Nan 대체\n",
    "df[ df > 0 ]"
   ]
  },
  {
   "cell_type": "code",
   "execution_count": 61,
   "metadata": {},
   "outputs": [
    {
     "data": {
      "text/plain": [
       "(                   A         B         C         D\n",
       " 2018-12-14 -0.297869  0.351047  1.279110 -0.220042\n",
       " 2018-12-15 -0.586203 -0.193220  0.148834 -0.154038\n",
       " 2018-12-16  0.929718 -0.304167  1.123938 -0.831542\n",
       " 2018-12-17  0.206973  1.448165 -1.521021  1.817648\n",
       " 2018-12-18 -0.311712 -0.923587  0.317474 -0.453546\n",
       " 2018-12-19 -0.017377  0.212765  0.672226 -1.221966,\n",
       "                    A         B         C         D\n",
       " 2018-12-14 -0.297869  0.351047  1.279110 -0.220042\n",
       " 2018-12-15 -0.586203 -0.193220  0.148834 -0.154038\n",
       " 2018-12-16  0.929718 -0.304167  1.123938 -0.831542\n",
       " 2018-12-17  0.206973  1.448165 -1.521021  1.817648\n",
       " 2018-12-18 -0.311712 -0.923587  0.317474 -0.453546\n",
       " 2018-12-19 -0.017377  0.212765  0.672226 -1.221966)"
      ]
     },
     "execution_count": 61,
     "metadata": {},
     "output_type": "execute_result"
    }
   ],
   "source": [
    "# 복사 \n",
    "df.copy(), df[:]"
   ]
  },
  {
   "cell_type": "code",
   "execution_count": 57,
   "metadata": {},
   "outputs": [],
   "source": []
  },
  {
   "cell_type": "code",
   "execution_count": 64,
   "metadata": {},
   "outputs": [
    {
     "data": {
      "text/html": [
       "<div>\n",
       "<style scoped>\n",
       "    .dataframe tbody tr th:only-of-type {\n",
       "        vertical-align: middle;\n",
       "    }\n",
       "\n",
       "    .dataframe tbody tr th {\n",
       "        vertical-align: top;\n",
       "    }\n",
       "\n",
       "    .dataframe thead th {\n",
       "        text-align: right;\n",
       "    }\n",
       "</style>\n",
       "<table border=\"1\" class=\"dataframe\">\n",
       "  <thead>\n",
       "    <tr style=\"text-align: right;\">\n",
       "      <th></th>\n",
       "      <th>A</th>\n",
       "      <th>B</th>\n",
       "      <th>C</th>\n",
       "      <th>D</th>\n",
       "      <th>E</th>\n",
       "    </tr>\n",
       "  </thead>\n",
       "  <tbody>\n",
       "    <tr>\n",
       "      <th>2018-12-14</th>\n",
       "      <td>-0.297869</td>\n",
       "      <td>0.351047</td>\n",
       "      <td>1.279110</td>\n",
       "      <td>-0.220042</td>\n",
       "      <td>one</td>\n",
       "    </tr>\n",
       "    <tr>\n",
       "      <th>2018-12-15</th>\n",
       "      <td>-0.586203</td>\n",
       "      <td>-0.193220</td>\n",
       "      <td>0.148834</td>\n",
       "      <td>-0.154038</td>\n",
       "      <td>one</td>\n",
       "    </tr>\n",
       "    <tr>\n",
       "      <th>2018-12-16</th>\n",
       "      <td>0.929718</td>\n",
       "      <td>-0.304167</td>\n",
       "      <td>1.123938</td>\n",
       "      <td>-0.831542</td>\n",
       "      <td>two</td>\n",
       "    </tr>\n",
       "    <tr>\n",
       "      <th>2018-12-17</th>\n",
       "      <td>0.206973</td>\n",
       "      <td>1.448165</td>\n",
       "      <td>-1.521021</td>\n",
       "      <td>1.817648</td>\n",
       "      <td>three</td>\n",
       "    </tr>\n",
       "    <tr>\n",
       "      <th>2018-12-18</th>\n",
       "      <td>-0.311712</td>\n",
       "      <td>-0.923587</td>\n",
       "      <td>0.317474</td>\n",
       "      <td>-0.453546</td>\n",
       "      <td>four</td>\n",
       "    </tr>\n",
       "  </tbody>\n",
       "</table>\n",
       "</div>"
      ],
      "text/plain": [
       "                   A         B         C         D      E\n",
       "2018-12-14 -0.297869  0.351047  1.279110 -0.220042    one\n",
       "2018-12-15 -0.586203 -0.193220  0.148834 -0.154038    one\n",
       "2018-12-16  0.929718 -0.304167  1.123938 -0.831542    two\n",
       "2018-12-17  0.206973  1.448165 -1.521021  1.817648  three\n",
       "2018-12-18 -0.311712 -0.923587  0.317474 -0.453546   four"
      ]
     },
     "execution_count": 64,
     "metadata": {},
     "output_type": "execute_result"
    }
   ],
   "source": [
    "# 기존 데이터 df에 새로운 컬럼을 추가한다 !! (아주 중요) => 파생변수\n",
    "# 기존  df의 1차원과 동수의 데이터가 존재해야 한다\n",
    "# 데이터는 리스트 ok, Series도 ok\n",
    "new_data = ['one','one','two','three','four','three']\n",
    "# 데이터 추가, 대상[ 신규컬럼명 ] = 데이터\n",
    "df['E']= new_data\n",
    "df.head()"
   ]
  },
  {
   "cell_type": "code",
   "execution_count": 65,
   "metadata": {},
   "outputs": [
    {
     "data": {
      "text/plain": [
       "2018-12-14    False\n",
       "2018-12-15    False\n",
       "2018-12-16     True\n",
       "2018-12-17    False\n",
       "2018-12-18     True\n",
       "2018-12-19    False\n",
       "Freq: D, Name: E, dtype: bool"
      ]
     },
     "execution_count": 65,
     "metadata": {},
     "output_type": "execute_result"
    }
   ],
   "source": [
    "# 데이터 조사\n",
    "# 안에 그런값이 잇는가?\n",
    "df['E'].isin( ['two','four'] )"
   ]
  },
  {
   "cell_type": "code",
   "execution_count": 66,
   "metadata": {},
   "outputs": [
    {
     "data": {
      "text/html": [
       "<div>\n",
       "<style scoped>\n",
       "    .dataframe tbody tr th:only-of-type {\n",
       "        vertical-align: middle;\n",
       "    }\n",
       "\n",
       "    .dataframe tbody tr th {\n",
       "        vertical-align: top;\n",
       "    }\n",
       "\n",
       "    .dataframe thead th {\n",
       "        text-align: right;\n",
       "    }\n",
       "</style>\n",
       "<table border=\"1\" class=\"dataframe\">\n",
       "  <thead>\n",
       "    <tr style=\"text-align: right;\">\n",
       "      <th></th>\n",
       "      <th>A</th>\n",
       "      <th>B</th>\n",
       "      <th>C</th>\n",
       "      <th>D</th>\n",
       "      <th>E</th>\n",
       "    </tr>\n",
       "  </thead>\n",
       "  <tbody>\n",
       "    <tr>\n",
       "      <th>2018-12-16</th>\n",
       "      <td>0.929718</td>\n",
       "      <td>-0.304167</td>\n",
       "      <td>1.123938</td>\n",
       "      <td>-0.831542</td>\n",
       "      <td>two</td>\n",
       "    </tr>\n",
       "    <tr>\n",
       "      <th>2018-12-18</th>\n",
       "      <td>-0.311712</td>\n",
       "      <td>-0.923587</td>\n",
       "      <td>0.317474</td>\n",
       "      <td>-0.453546</td>\n",
       "      <td>four</td>\n",
       "    </tr>\n",
       "  </tbody>\n",
       "</table>\n",
       "</div>"
      ],
      "text/plain": [
       "                   A         B         C         D     E\n",
       "2018-12-16  0.929718 -0.304167  1.123938 -0.831542   two\n",
       "2018-12-18 -0.311712 -0.923587  0.317474 -0.453546  four"
      ]
     },
     "execution_count": 66,
     "metadata": {},
     "output_type": "execute_result"
    }
   ],
   "source": [
    "df[df['E'].isin( ['two','four'] )]"
   ]
  },
  {
   "cell_type": "code",
   "execution_count": 67,
   "metadata": {},
   "outputs": [
    {
     "data": {
      "text/html": [
       "<div>\n",
       "<style scoped>\n",
       "    .dataframe tbody tr th:only-of-type {\n",
       "        vertical-align: middle;\n",
       "    }\n",
       "\n",
       "    .dataframe tbody tr th {\n",
       "        vertical-align: top;\n",
       "    }\n",
       "\n",
       "    .dataframe thead th {\n",
       "        text-align: right;\n",
       "    }\n",
       "</style>\n",
       "<table border=\"1\" class=\"dataframe\">\n",
       "  <thead>\n",
       "    <tr style=\"text-align: right;\">\n",
       "      <th></th>\n",
       "      <th>A</th>\n",
       "      <th>B</th>\n",
       "      <th>C</th>\n",
       "      <th>D</th>\n",
       "      <th>E</th>\n",
       "    </tr>\n",
       "  </thead>\n",
       "  <tbody>\n",
       "    <tr>\n",
       "      <th>2018-12-14</th>\n",
       "      <td>-0.297869</td>\n",
       "      <td>0.351047</td>\n",
       "      <td>1.279110</td>\n",
       "      <td>-0.220042</td>\n",
       "      <td>one</td>\n",
       "    </tr>\n",
       "    <tr>\n",
       "      <th>2018-12-15</th>\n",
       "      <td>-0.586203</td>\n",
       "      <td>-0.193220</td>\n",
       "      <td>0.148834</td>\n",
       "      <td>-0.154038</td>\n",
       "      <td>one</td>\n",
       "    </tr>\n",
       "    <tr>\n",
       "      <th>2018-12-16</th>\n",
       "      <td>0.929718</td>\n",
       "      <td>-0.304167</td>\n",
       "      <td>1.123938</td>\n",
       "      <td>-0.831542</td>\n",
       "      <td>two</td>\n",
       "    </tr>\n",
       "    <tr>\n",
       "      <th>2018-12-17</th>\n",
       "      <td>0.206973</td>\n",
       "      <td>1.448165</td>\n",
       "      <td>-1.521021</td>\n",
       "      <td>1.817648</td>\n",
       "      <td>three</td>\n",
       "    </tr>\n",
       "    <tr>\n",
       "      <th>2018-12-18</th>\n",
       "      <td>-0.311712</td>\n",
       "      <td>-0.923587</td>\n",
       "      <td>0.317474</td>\n",
       "      <td>-0.453546</td>\n",
       "      <td>four</td>\n",
       "    </tr>\n",
       "    <tr>\n",
       "      <th>2018-12-19</th>\n",
       "      <td>-0.017377</td>\n",
       "      <td>0.212765</td>\n",
       "      <td>0.672226</td>\n",
       "      <td>-1.221966</td>\n",
       "      <td>three</td>\n",
       "    </tr>\n",
       "  </tbody>\n",
       "</table>\n",
       "</div>"
      ],
      "text/plain": [
       "                   A         B         C         D      E\n",
       "2018-12-14 -0.297869  0.351047  1.279110 -0.220042    one\n",
       "2018-12-15 -0.586203 -0.193220  0.148834 -0.154038    one\n",
       "2018-12-16  0.929718 -0.304167  1.123938 -0.831542    two\n",
       "2018-12-17  0.206973  1.448165 -1.521021  1.817648  three\n",
       "2018-12-18 -0.311712 -0.923587  0.317474 -0.453546   four\n",
       "2018-12-19 -0.017377  0.212765  0.672226 -1.221966  three"
      ]
     },
     "execution_count": 67,
     "metadata": {},
     "output_type": "execute_result"
    }
   ],
   "source": [
    "df"
   ]
  },
  {
   "cell_type": "code",
   "execution_count": 68,
   "metadata": {},
   "outputs": [
    {
     "data": {
      "text/html": [
       "<div>\n",
       "<style scoped>\n",
       "    .dataframe tbody tr th:only-of-type {\n",
       "        vertical-align: middle;\n",
       "    }\n",
       "\n",
       "    .dataframe tbody tr th {\n",
       "        vertical-align: top;\n",
       "    }\n",
       "\n",
       "    .dataframe thead th {\n",
       "        text-align: right;\n",
       "    }\n",
       "</style>\n",
       "<table border=\"1\" class=\"dataframe\">\n",
       "  <thead>\n",
       "    <tr style=\"text-align: right;\">\n",
       "      <th></th>\n",
       "      <th>A</th>\n",
       "      <th>B</th>\n",
       "      <th>C</th>\n",
       "      <th>D</th>\n",
       "      <th>E</th>\n",
       "    </tr>\n",
       "  </thead>\n",
       "  <tbody>\n",
       "    <tr>\n",
       "      <th>2018-12-14</th>\n",
       "      <td>-0.297869</td>\n",
       "      <td>0.351047</td>\n",
       "      <td>1.279110</td>\n",
       "      <td>-0.220042</td>\n",
       "      <td>one</td>\n",
       "    </tr>\n",
       "    <tr>\n",
       "      <th>2018-12-15</th>\n",
       "      <td>-0.884072</td>\n",
       "      <td>0.157827</td>\n",
       "      <td>1.427944</td>\n",
       "      <td>-0.374079</td>\n",
       "      <td>oneone</td>\n",
       "    </tr>\n",
       "    <tr>\n",
       "      <th>2018-12-16</th>\n",
       "      <td>0.045647</td>\n",
       "      <td>-0.146340</td>\n",
       "      <td>2.551881</td>\n",
       "      <td>-1.205621</td>\n",
       "      <td>oneonetwo</td>\n",
       "    </tr>\n",
       "    <tr>\n",
       "      <th>2018-12-17</th>\n",
       "      <td>0.252620</td>\n",
       "      <td>1.301825</td>\n",
       "      <td>1.030861</td>\n",
       "      <td>0.612027</td>\n",
       "      <td>oneonetwothree</td>\n",
       "    </tr>\n",
       "    <tr>\n",
       "      <th>2018-12-18</th>\n",
       "      <td>-0.059092</td>\n",
       "      <td>0.378238</td>\n",
       "      <td>1.348334</td>\n",
       "      <td>0.158482</td>\n",
       "      <td>oneonetwothreefour</td>\n",
       "    </tr>\n",
       "    <tr>\n",
       "      <th>2018-12-19</th>\n",
       "      <td>-0.076469</td>\n",
       "      <td>0.591003</td>\n",
       "      <td>2.020560</td>\n",
       "      <td>-1.063484</td>\n",
       "      <td>oneonetwothreefourthree</td>\n",
       "    </tr>\n",
       "  </tbody>\n",
       "</table>\n",
       "</div>"
      ],
      "text/plain": [
       "                   A         B         C         D                        E\n",
       "2018-12-14 -0.297869  0.351047  1.279110 -0.220042                      one\n",
       "2018-12-15 -0.884072  0.157827  1.427944 -0.374079                   oneone\n",
       "2018-12-16  0.045647 -0.146340  2.551881 -1.205621                oneonetwo\n",
       "2018-12-17  0.252620  1.301825  1.030861  0.612027           oneonetwothree\n",
       "2018-12-18 -0.059092  0.378238  1.348334  0.158482       oneonetwothreefour\n",
       "2018-12-19 -0.076469  0.591003  2.020560 -1.063484  oneonetwothreefourthree"
      ]
     },
     "execution_count": 68,
     "metadata": {},
     "output_type": "execute_result"
    }
   ],
   "source": [
    "# 누적합\n",
    "# apply( 함수를 표현 ) => 맴버들을 다 건드린다\n",
    "# -> E를 보면 이해가 쉽다 !\n",
    "df.apply(np.cumsum)"
   ]
  },
  {
   "cell_type": "code",
   "execution_count": 69,
   "metadata": {},
   "outputs": [],
   "source": [
    "# 제거\n",
    "try:    \n",
    "    # 제거\n",
    "    df.drop( ['E'], inplace=True, axis=1 )\n",
    "    df\n",
    "except Exception as e:\n",
    "    pass"
   ]
  },
  {
   "cell_type": "code",
   "execution_count": 70,
   "metadata": {},
   "outputs": [
    {
     "data": {
      "text/plain": [
       "A    1.515921\n",
       "B    2.371752\n",
       "C    2.800130\n",
       "D    3.039614\n",
       "dtype: float64"
      ]
     },
     "execution_count": 70,
     "metadata": {},
     "output_type": "execute_result"
    }
   ],
   "source": [
    "# 각 컬럼의 최대값에서 최소값을 뺀 값 => 거리:distance\n",
    "df.apply( lambda x:x.max()-x.min() )"
   ]
  },
  {
   "cell_type": "code",
   "execution_count": 71,
   "metadata": {},
   "outputs": [
    {
     "data": {
      "text/plain": [
       "(A    0.929718\n",
       " B    1.448165\n",
       " C    1.279110\n",
       " D    1.817648\n",
       " dtype: float64, A   -0.586203\n",
       " B   -0.923587\n",
       " C   -1.521021\n",
       " D   -1.221966\n",
       " dtype: float64)"
      ]
     },
     "execution_count": 71,
     "metadata": {},
     "output_type": "execute_result"
    }
   ],
   "source": [
    "df.max(), df.min()"
   ]
  },
  {
   "cell_type": "code",
   "execution_count": null,
   "metadata": {},
   "outputs": [],
   "source": []
  }
 ],
 "metadata": {
  "kernelspec": {
   "display_name": "Python 3",
   "language": "python",
   "name": "python3"
  },
  "language_info": {
   "codemirror_mode": {
    "name": "ipython",
    "version": 3
   },
   "file_extension": ".py",
   "mimetype": "text/x-python",
   "name": "python",
   "nbconvert_exporter": "python",
   "pygments_lexer": "ipython3",
   "version": "3.6.9"
  }
 },
 "nbformat": 4,
 "nbformat_minor": 2
}
