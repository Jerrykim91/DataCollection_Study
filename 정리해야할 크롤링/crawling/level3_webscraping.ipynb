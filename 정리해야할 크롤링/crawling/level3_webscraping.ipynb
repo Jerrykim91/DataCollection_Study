{
 "cells": [
  {
   "cell_type": "markdown",
   "metadata": {},
   "source": [
    "## 웹스크래핑을 이용한 데이터 수집\n",
    "\n",
    "* open API를 이용한 데이터 수집이 불가한 경우 해당\n",
    "* 웹을 요청하여 html을 모두 받아서 DOM으로 올려서 데이터를 추출방식\n",
    "* DOM을 띠워서 데이터를 추출할때 사용하는 라이브러리\n",
    " > beautifulsoup (bs4)를 활용  \n",
    " > conda install beautifulsoup4"
   ]
  },
  {
   "cell_type": "code",
   "execution_count": 23,
   "metadata": {},
   "outputs": [],
   "source": [
    "from bs4 import BeautifulSoup"
   ]
  },
  {
   "cell_type": "code",
   "execution_count": 24,
   "metadata": {},
   "outputs": [],
   "source": [
    "from urllib.request import urlopen"
   ]
  },
  {
   "cell_type": "markdown",
   "metadata": {},
   "source": [
    "- 콘텐츠가 존재하는 해당 페이지까지 진입\n",
    "- 진입간에 로그인, ajax등등 사람의 손을 타지 않는지 체크\n",
    "- 그냥 url만 넣으면 화면이 구성된다 => OK\n",
    "- html 자체에 프레임이 적용된경우 실제 주소까지 찾아서 이동\n",
    "- 통신시 get, post등 데이터를 전달해서 획득하는 것도 OK"
   ]
  },
  {
   "cell_type": "markdown",
   "metadata": {},
   "source": [
    "### 네이버 금융 > 고시환율정보 수집\n",
    "\n",
    "- 하루에 환율이 수시로 변경된다 \n",
    "- 그 주기를 관찰하여 수집 주기를 결정해야 한다"
   ]
  },
  {
   "cell_type": "code",
   "execution_count": 25,
   "metadata": {},
   "outputs": [
    {
     "data": {
      "text/plain": [
       "'https://finance.naver.com/marketindex/exchangeList.nhn'"
      ]
     },
     "execution_count": 25,
     "metadata": {},
     "output_type": "execute_result"
    }
   ],
   "source": [
    "target_site = 'https://finance.naver.com/marketindex/exchangeList.nhn'\n",
    "target_site"
   ]
  },
  {
   "cell_type": "code",
   "execution_count": 26,
   "metadata": {},
   "outputs": [
    {
     "data": {
      "text/plain": [
       "<http.client.HTTPResponse at 0x131616014e0>"
      ]
     },
     "execution_count": 26,
     "metadata": {},
     "output_type": "execute_result"
    }
   ],
   "source": [
    "#요청 응답 확득하기 \n",
    "page = urlopen(target_site)\n",
    "page"
   ]
  },
  {
   "cell_type": "code",
   "execution_count": 27,
   "metadata": {},
   "outputs": [],
   "source": [
    "# DOM  구성\n",
    "# 'html5lib' 파서는 html  양이 크거나, 정교한 파싱을 할때 즉, 아래 파서가\n",
    "# 정상적으로 결과를 내지 못하면 이 파서로 교체\n",
    "soup = BeautifulSoup(page, 'html.parser' )"
   ]
  },
  {
   "cell_type": "code",
   "execution_count": 28,
   "metadata": {},
   "outputs": [
    {
     "data": {
      "text/plain": [
       "['미국 USD', '유럽연합 EUR', '일본 JPY (100엔)', '중국 CNY', '홍콩 HKD']"
      ]
     },
     "execution_count": 28,
     "metadata": {},
     "output_type": "execute_result"
    }
   ],
   "source": [
    "#리스트를 내포를 통해서 간단하게 가공해 보았다.\n",
    "tmp = [td.a.string.strip() for td in soup.find_all('td','tit')]\n",
    "tmp[:5]"
   ]
  },
  {
   "cell_type": "code",
   "execution_count": 38,
   "metadata": {},
   "outputs": [
    {
     "name": "stdout",
     "output_type": "stream",
     "text": [
      "미국 USD\n",
      "유럽연합 EUR\n",
      "일본 JPY (100엔)\n",
      "중국 CNY\n",
      "홍콩 HKD\n",
      "대만 TWD\n",
      "영국 GBP\n",
      "오만 OMR\n",
      "캐나다 CAD\n",
      "스위스 CHF\n",
      "스웨덴 SEK\n",
      "호주 AUD\n",
      "뉴질랜드 NZD\n",
      "체코 CZK\n",
      "칠레 CLP\n",
      "터키 TRY\n",
      "몽골 MNT\n",
      "이스라엘 ILS\n",
      "덴마크 DKK\n",
      "노르웨이 NOK\n",
      "사우디아라비아 SAR\n",
      "쿠웨이트 KWD\n",
      "바레인 BHD\n",
      "아랍에미리트 AED\n",
      "요르단 JOD\n",
      "이집트 EGP\n",
      "태국 THB\n",
      "싱가포르 SGD\n",
      "말레이시아 MYR\n",
      "인도네시아 IDR 100\n",
      "카타르 QAR\n",
      "카자흐스탄 KZT\n",
      "브루나이 BND\n",
      "인도 INR\n",
      "파키스탄 PKR\n",
      "방글라데시 BDT\n",
      "필리핀 PHP\n",
      "멕시코 MXN\n",
      "브라질 BRL\n",
      "베트남 VND 100\n",
      "남아프리카 공화국 ZAR\n",
      "러시아 RUB\n",
      "헝가리 HUF\n",
      "폴란드 PLN\n"
     ]
    }
   ],
   "source": [
    "for td in soup.find_all('td','tit'):\n",
    "    print(td.string.strip())"
   ]
  },
  {
   "cell_type": "code",
   "execution_count": 29,
   "metadata": {},
   "outputs": [
    {
     "name": "stdout",
     "output_type": "stream",
     "text": [
      "미국 USD\n",
      "유럽연합 EUR\n",
      "일본 JPY (100엔)\n",
      "중국 CNY\n",
      "홍콩 HKD\n",
      "대만 TWD\n",
      "영국 GBP\n",
      "오만 OMR\n",
      "캐나다 CAD\n",
      "스위스 CHF\n",
      "스웨덴 SEK\n",
      "호주 AUD\n",
      "뉴질랜드 NZD\n",
      "체코 CZK\n",
      "칠레 CLP\n",
      "터키 TRY\n",
      "몽골 MNT\n",
      "이스라엘 ILS\n",
      "덴마크 DKK\n",
      "노르웨이 NOK\n",
      "사우디아라비아 SAR\n",
      "쿠웨이트 KWD\n",
      "바레인 BHD\n",
      "아랍에미리트 AED\n",
      "요르단 JOD\n",
      "이집트 EGP\n",
      "태국 THB\n",
      "싱가포르 SGD\n",
      "말레이시아 MYR\n",
      "인도네시아 IDR 100\n",
      "카타르 QAR\n",
      "카자흐스탄 KZT\n",
      "브루나이 BND\n",
      "인도 INR\n",
      "파키스탄 PKR\n",
      "방글라데시 BDT\n",
      "필리핀 PHP\n",
      "멕시코 MXN\n",
      "브라질 BRL\n",
      "베트남 VND 100\n",
      "남아프리카 공화국 ZAR\n",
      "러시아 RUB\n",
      "헝가리 HUF\n",
      "폴란드 PLN\n"
     ]
    }
   ],
   "source": [
    "for td in soup.find_all('td','tit'):\n",
    "    print(td.a.string.strip())"
   ]
  },
  {
   "cell_type": "markdown",
   "metadata": {},
   "source": [
    "- 데이터를 추출하여 디비에 적제하기 위해 최종 형태는 다음과 같다\n",
    "- [\n",
    "    {\n",
    "      'name':'미국 USD',\n",
    "      'code';'USD',\n",
    "      'buy_std_rate':1209.90,\n",
    "      'cash_sell':1188.73\n",
    "    },{}\n",
    " ]"
   ]
  },
  {
   "cell_type": "code",
   "execution_count": null,
   "metadata": {},
   "outputs": [],
   "source": []
  },
  {
   "cell_type": "code",
   "execution_count": 30,
   "metadata": {},
   "outputs": [
    {
     "data": {
      "text/plain": [
       "'1234'"
      ]
     },
     "execution_count": 30,
     "metadata": {},
     "output_type": "execute_result"
    }
   ],
   "source": [
    "# replace를 이용해 콤마를 삭제 ('기존','변경')\n",
    "'1,234'.replace(',','')"
   ]
  },
  {
   "cell_type": "code",
   "execution_count": 31,
   "metadata": {},
   "outputs": [
    {
     "data": {
      "text/plain": [
       "['미국 USD', '유럽연합 EUR', '일본 JPY (100엔)']"
      ]
     },
     "execution_count": 31,
     "metadata": {},
     "output_type": "execute_result"
    }
   ],
   "source": [
    "# 통화 \n",
    "tmp = [td.a.string.strip() for td in soup.find_all('td','tit')]\n",
    "tmp[:3]"
   ]
  },
  {
   "cell_type": "code",
   "execution_count": 32,
   "metadata": {},
   "outputs": [
    {
     "data": {
      "text/plain": [
       "['1,194.50', '1,314.79', '1,109.31']"
      ]
     },
     "execution_count": 32,
     "metadata": {},
     "output_type": "execute_result"
    }
   ],
   "source": [
    "# 매매기준율\n",
    "tmp = [td.string.strip() for td in soup.find_all('td','sale')]\n",
    "tmp[:3]"
   ]
  },
  {
   "cell_type": "markdown",
   "metadata": {},
   "source": [
    "```\n",
    "body > div > table > tbody > tr:nth-child(1) > td:nth-child(4)\n",
    "```\n",
    "- 만약 대상 페이지에 table이 n개 존재하면 특정해서 찾아야한다\n",
    "- 대상 데이터가 있는 tr을 모두 찾았다\n",
    "- table.tbl_exchange > tbody > tr\n",
    "- 위의 표현을 for문으로 구동하고 하나하나의 tr에서 td:nth-child(4) 를 선택\n"
   ]
  },
  {
   "cell_type": "code",
   "execution_count": 33,
   "metadata": {},
   "outputs": [
    {
     "ename": "SyntaxError",
     "evalue": "invalid syntax (<ipython-input-33-0a853f966b29>, line 1)",
     "output_type": "error",
     "traceback": [
      "\u001b[1;36m  File \u001b[1;32m\"<ipython-input-33-0a853f966b29>\"\u001b[1;36m, line \u001b[1;32m1\u001b[0m\n\u001b[1;33m    body > div > table > tbody > tr:nth-child(1) > td:nth-child(4)\u001b[0m\n\u001b[1;37m                                                     ^\u001b[0m\n\u001b[1;31mSyntaxError\u001b[0m\u001b[1;31m:\u001b[0m invalid syntax\n"
     ]
    }
   ],
   "source": [
    "body > div > table > tbody > tr:nth-child(1) > td:nth-child(4)"
   ]
  },
  {
   "cell_type": "code",
   "execution_count": 81,
   "metadata": {},
   "outputs": [
    {
     "name": "stdout",
     "output_type": "stream",
     "text": [
      "미국 USD\n",
      "1,194.50\n",
      "1,173.60\n",
      "유럽연합 EUR\n",
      "1,314.79\n",
      "1,288.63\n",
      "일본 JPY (100엔)\n",
      "1,109.31\n",
      "1,089.90\n",
      "중국 CNY\n",
      "167.98\n",
      "159.59\n",
      "홍콩 HKD\n",
      "152.37\n",
      "149.37\n",
      "대만 TWD\n",
      "38.36\n",
      "35.68\n",
      "영국 GBP\n",
      "1,475.75\n",
      "1,446.68\n",
      "오만 OMR\n",
      "3,102.44\n",
      "2,916.30\n",
      "캐나다 CAD\n",
      "909.06\n",
      "891.16\n",
      "스위스 CHF\n",
      "1,202.44\n",
      "1,178.76\n",
      "스웨덴 SEK\n",
      "123.35\n",
      "120.33\n",
      "호주 AUD\n",
      "820.32\n",
      "804.16\n",
      "뉴질랜드 NZD\n",
      "766.63\n",
      "751.53\n",
      "체코 CZK\n",
      "50.83\n",
      "46.26\n",
      "칠레 CLP\n",
      "1.68\n",
      "1.55\n",
      "터키 TRY\n",
      "207.07\n",
      "0.00\n",
      "몽골 MNT\n",
      "0.45\n",
      "0.00\n",
      "이스라엘 ILS\n",
      "336.87\n",
      "309.93\n",
      "덴마크 DKK\n",
      "176.23\n",
      "171.92\n",
      "노르웨이 NOK\n",
      "133.06\n",
      "129.81\n",
      "사우디아라비아 SAR\n",
      "318.47\n",
      "296.50\n",
      "쿠웨이트 KWD\n",
      "3,928.50\n",
      "3,614.22\n",
      "바레인 BHD\n",
      "3,167.93\n",
      "2,914.50\n",
      "아랍에미리트 AED\n",
      "325.20\n",
      "302.77\n",
      "요르단 JOD\n",
      "1,684.77\n",
      "1,549.99\n",
      "이집트 EGP\n",
      "72.81\n",
      "0.00\n",
      "태국 THB\n",
      "39.07\n",
      "36.73\n",
      "싱가포르 SGD\n",
      "865.86\n",
      "848.63\n",
      "말레이시아 MYR\n",
      "285.80\n",
      "264.66\n",
      "인도네시아 IDR 100\n",
      "8.52\n",
      "7.67\n",
      "카타르 QAR\n",
      "328.07\n",
      "0.00\n",
      "카자흐스탄 KZT\n",
      "3.09\n",
      "0.00\n",
      "브루나이 BND\n",
      "865.83\n",
      "813.89\n",
      "인도 INR\n",
      "16.66\n",
      "0.00\n",
      "파키스탄 PKR\n",
      "7.62\n",
      "0.00\n",
      "방글라데시 BDT\n",
      "14.14\n",
      "0.00\n",
      "필리핀 PHP\n",
      "22.92\n",
      "21.05\n",
      "멕시코 MXN\n",
      "61.21\n",
      "56.07\n",
      "브라질 BRL\n",
      "292.69\n",
      "269.28\n",
      "베트남 VND 100\n",
      "5.15\n",
      "4.55\n",
      "남아프리카 공화국 ZAR\n",
      "81.25\n",
      "74.75\n",
      "러시아 RUB\n",
      "18.26\n",
      "16.26\n",
      "헝가리 HUF\n",
      "3.96\n",
      "3.65\n",
      "폴란드 PLN\n",
      "303.41\n",
      "279.14\n"
     ]
    }
   ],
   "source": [
    "# 원하는 데이터를 감사는 tr를 찾아서 그밑에서 자식들을 탐색후 거기서 데이터를 추출!!\n",
    "for tr in soup.select('table.tbl_exchange > tbody > tr'):\n",
    "    # 데이터 한줄 한줄 뽑아서 => tr에서 탐색하여 세부 데이터 추출\n",
    "    print( tr.select_one('td.tit').string.strip() )\n",
    "    print( tr.select_one('td.sale').string.strip() )\n",
    "    print( tr.select('td')[3].string.strip())"
   ]
  },
  {
   "cell_type": "code",
   "execution_count": 83,
   "metadata": {},
   "outputs": [
    {
     "data": {
      "text/plain": [
       "[{'Name': '미국 USD',\n",
       "  'Code': 'USD',\n",
       "  'Buy_std_rate': '1,194.50',\n",
       "  'Cash_sell': '1,173.60'},\n",
       " {'Name': '유럽연합 EUR',\n",
       "  'Code': 'EUR',\n",
       "  'Buy_std_rate': '1,314.79',\n",
       "  'Cash_sell': '1,288.63'},\n",
       " {'Name': '중국 CNY',\n",
       "  'Code': 'CNY',\n",
       "  'Buy_std_rate': '167.98',\n",
       "  'Cash_sell': '159.59'},\n",
       " {'Name': '홍콩 HKD',\n",
       "  'Code': 'HKD',\n",
       "  'Buy_std_rate': '152.37',\n",
       "  'Cash_sell': '149.37'},\n",
       " {'Name': '대만 TWD',\n",
       "  'Code': 'TWD',\n",
       "  'Buy_std_rate': '38.36',\n",
       "  'Cash_sell': '35.68'},\n",
       " {'Name': '영국 GBP',\n",
       "  'Code': 'GBP',\n",
       "  'Buy_std_rate': '1,475.75',\n",
       "  'Cash_sell': '1,446.68'},\n",
       " {'Name': '오만 OMR',\n",
       "  'Code': 'OMR',\n",
       "  'Buy_std_rate': '3,102.44',\n",
       "  'Cash_sell': '2,916.30'},\n",
       " {'Name': '캐나다 CAD',\n",
       "  'Code': 'CAD',\n",
       "  'Buy_std_rate': '909.06',\n",
       "  'Cash_sell': '891.16'},\n",
       " {'Name': '스위스 CHF',\n",
       "  'Code': 'CHF',\n",
       "  'Buy_std_rate': '1,202.44',\n",
       "  'Cash_sell': '1,178.76'},\n",
       " {'Name': '스웨덴 SEK',\n",
       "  'Code': 'SEK',\n",
       "  'Buy_std_rate': '123.35',\n",
       "  'Cash_sell': '120.33'},\n",
       " {'Name': '호주 AUD',\n",
       "  'Code': 'AUD',\n",
       "  'Buy_std_rate': '820.32',\n",
       "  'Cash_sell': '804.16'},\n",
       " {'Name': '뉴질랜드 NZD',\n",
       "  'Code': 'NZD',\n",
       "  'Buy_std_rate': '766.63',\n",
       "  'Cash_sell': '751.53'},\n",
       " {'Name': '체코 CZK',\n",
       "  'Code': 'CZK',\n",
       "  'Buy_std_rate': '50.83',\n",
       "  'Cash_sell': '46.26'},\n",
       " {'Name': '칠레 CLP',\n",
       "  'Code': 'CLP',\n",
       "  'Buy_std_rate': '1.68',\n",
       "  'Cash_sell': '1.55'},\n",
       " {'Name': '터키 TRY',\n",
       "  'Code': 'TRY',\n",
       "  'Buy_std_rate': '207.07',\n",
       "  'Cash_sell': '0.00'},\n",
       " {'Name': '몽골 MNT',\n",
       "  'Code': 'MNT',\n",
       "  'Buy_std_rate': '0.45',\n",
       "  'Cash_sell': '0.00'},\n",
       " {'Name': '이스라엘 ILS',\n",
       "  'Code': 'ILS',\n",
       "  'Buy_std_rate': '336.87',\n",
       "  'Cash_sell': '309.93'},\n",
       " {'Name': '덴마크 DKK',\n",
       "  'Code': 'DKK',\n",
       "  'Buy_std_rate': '176.23',\n",
       "  'Cash_sell': '171.92'},\n",
       " {'Name': '노르웨이 NOK',\n",
       "  'Code': 'NOK',\n",
       "  'Buy_std_rate': '133.06',\n",
       "  'Cash_sell': '129.81'},\n",
       " {'Name': '사우디아라비아 SAR',\n",
       "  'Code': 'SAR',\n",
       "  'Buy_std_rate': '318.47',\n",
       "  'Cash_sell': '296.50'},\n",
       " {'Name': '쿠웨이트 KWD',\n",
       "  'Code': 'KWD',\n",
       "  'Buy_std_rate': '3,928.50',\n",
       "  'Cash_sell': '3,614.22'},\n",
       " {'Name': '바레인 BHD',\n",
       "  'Code': 'BHD',\n",
       "  'Buy_std_rate': '3,167.93',\n",
       "  'Cash_sell': '2,914.50'},\n",
       " {'Name': '아랍에미리트 AED',\n",
       "  'Code': 'AED',\n",
       "  'Buy_std_rate': '325.20',\n",
       "  'Cash_sell': '302.77'},\n",
       " {'Name': '요르단 JOD',\n",
       "  'Code': 'JOD',\n",
       "  'Buy_std_rate': '1,684.77',\n",
       "  'Cash_sell': '1,549.99'},\n",
       " {'Name': '이집트 EGP',\n",
       "  'Code': 'EGP',\n",
       "  'Buy_std_rate': '72.81',\n",
       "  'Cash_sell': '0.00'},\n",
       " {'Name': '태국 THB',\n",
       "  'Code': 'THB',\n",
       "  'Buy_std_rate': '39.07',\n",
       "  'Cash_sell': '36.73'},\n",
       " {'Name': '싱가포르 SGD',\n",
       "  'Code': 'SGD',\n",
       "  'Buy_std_rate': '865.86',\n",
       "  'Cash_sell': '848.63'},\n",
       " {'Name': '말레이시아 MYR',\n",
       "  'Code': 'MYR',\n",
       "  'Buy_std_rate': '285.80',\n",
       "  'Cash_sell': '264.66'},\n",
       " {'Name': '인도네시아 IDR 100',\n",
       "  'Code': 'IDR',\n",
       "  'Buy_std_rate': '8.52',\n",
       "  'Cash_sell': '7.67'},\n",
       " {'Name': '카타르 QAR',\n",
       "  'Code': 'QAR',\n",
       "  'Buy_std_rate': '328.07',\n",
       "  'Cash_sell': '0.00'},\n",
       " {'Name': '카자흐스탄 KZT',\n",
       "  'Code': 'KZT',\n",
       "  'Buy_std_rate': '3.09',\n",
       "  'Cash_sell': '0.00'},\n",
       " {'Name': '브루나이 BND',\n",
       "  'Code': 'BND',\n",
       "  'Buy_std_rate': '865.83',\n",
       "  'Cash_sell': '813.89'},\n",
       " {'Name': '인도 INR',\n",
       "  'Code': 'INR',\n",
       "  'Buy_std_rate': '16.66',\n",
       "  'Cash_sell': '0.00'},\n",
       " {'Name': '파키스탄 PKR',\n",
       "  'Code': 'PKR',\n",
       "  'Buy_std_rate': '7.62',\n",
       "  'Cash_sell': '0.00'},\n",
       " {'Name': '방글라데시 BDT',\n",
       "  'Code': 'BDT',\n",
       "  'Buy_std_rate': '14.14',\n",
       "  'Cash_sell': '0.00'},\n",
       " {'Name': '필리핀 PHP',\n",
       "  'Code': 'PHP',\n",
       "  'Buy_std_rate': '22.92',\n",
       "  'Cash_sell': '21.05'},\n",
       " {'Name': '멕시코 MXN',\n",
       "  'Code': 'MXN',\n",
       "  'Buy_std_rate': '61.21',\n",
       "  'Cash_sell': '56.07'},\n",
       " {'Name': '브라질 BRL',\n",
       "  'Code': 'BRL',\n",
       "  'Buy_std_rate': '292.69',\n",
       "  'Cash_sell': '269.28'},\n",
       " {'Name': '베트남 VND 100',\n",
       "  'Code': 'VND',\n",
       "  'Buy_std_rate': '5.15',\n",
       "  'Cash_sell': '4.55'},\n",
       " {'Name': '남아프리카 공화국 ZAR',\n",
       "  'Code': 'ZAR',\n",
       "  'Buy_std_rate': '81.25',\n",
       "  'Cash_sell': '74.75'},\n",
       " {'Name': '러시아 RUB',\n",
       "  'Code': 'RUB',\n",
       "  'Buy_std_rate': '18.26',\n",
       "  'Cash_sell': '16.26'},\n",
       " {'Name': '헝가리 HUF',\n",
       "  'Code': 'HUF',\n",
       "  'Buy_std_rate': '3.96',\n",
       "  'Cash_sell': '3.65'},\n",
       " {'Name': '폴란드 PLN',\n",
       "  'Code': 'PLN',\n",
       "  'Buy_std_rate': '303.41',\n",
       "  'Cash_sell': '279.14'}]"
      ]
     },
     "execution_count": 83,
     "metadata": {},
     "output_type": "execute_result"
    }
   ],
   "source": [
    "results = []\n",
    "for tr in soup.select('table.tbl_exchange > tbody > tr'):\n",
    "    if tr.select_one('td.tit').a.string.strip().count('JPY') == 0:\n",
    "        tmp   = dict()\n",
    "        tmp['Name']         = tr.select_one('td.tit').a.string.strip()\n",
    "        tmp['Code']         = tr.select_one('td.tit').a['href'][-6:-3]\n",
    "        tmp['Buy_std_rate'] = tr.select_one('td.sale').string.strip() \n",
    "        tmp['Cash_sell']    = tr.select('td')[3].string.strip()\n",
    "        # :nth-child(4)가 않되는 분은 아래로 처리변경\n",
    "        #tmp['cash_sell']    = tr.select('td')[3].string.strip()\n",
    "        results.append( tmp )\n",
    "results"
   ]
  },
  {
   "cell_type": "code",
   "execution_count": 84,
   "metadata": {},
   "outputs": [],
   "source": [
    "results = [ {\n",
    "    'name':tr.select_one('td.tit').a.string.strip(),\n",
    "    'code':tr.select_one('td.tit').a['href'][-6:-3],\n",
    "    'buy_std_rate':tr.select_one('td.sale').string.strip(),\n",
    "    'cash_sell':tr.select('td')[3].string.strip()\n",
    "} for tr in soup.select('table.tbl_exchange > tbody > tr') \n",
    "  if tr.select_one('td.tit').a.string.strip().count('JPY') == 0\n",
    "]"
   ]
  },
  {
   "cell_type": "code",
   "execution_count": 85,
   "metadata": {},
   "outputs": [
    {
     "data": {
      "text/plain": [
       "[{'name': '미국 USD',\n",
       "  'code': 'USD',\n",
       "  'buy_std_rate': '1,194.50',\n",
       "  'cash_sell': '1,173.60'},\n",
       " {'name': '유럽연합 EUR',\n",
       "  'code': 'EUR',\n",
       "  'buy_std_rate': '1,314.79',\n",
       "  'cash_sell': '1,288.63'}]"
      ]
     },
     "execution_count": 85,
     "metadata": {},
     "output_type": "execute_result"
    }
   ],
   "source": [
    "results[:2]"
   ]
  },
  {
   "cell_type": "code",
   "execution_count": null,
   "metadata": {},
   "outputs": [],
   "source": []
  },
  {
   "cell_type": "code",
   "execution_count": null,
   "metadata": {},
   "outputs": [],
   "source": []
  },
  {
   "cell_type": "code",
   "execution_count": null,
   "metadata": {},
   "outputs": [],
   "source": []
  },
  {
   "cell_type": "code",
   "execution_count": null,
   "metadata": {},
   "outputs": [],
   "source": []
  }
 ],
 "metadata": {
  "kernelspec": {
   "display_name": "Python 3",
   "language": "python",
   "name": "python3"
  },
  "language_info": {
   "codemirror_mode": {
    "name": "ipython",
    "version": 3
   },
   "file_extension": ".py",
   "mimetype": "text/x-python",
   "name": "python",
   "nbconvert_exporter": "python",
   "pygments_lexer": "ipython3",
   "version": "3.6.9"
  }
 },
 "nbformat": 4,
 "nbformat_minor": 2
}
