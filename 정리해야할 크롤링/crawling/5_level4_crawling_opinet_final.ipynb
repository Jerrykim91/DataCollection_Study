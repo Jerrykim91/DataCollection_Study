{
 "cells": [
  {
   "cell_type": "markdown",
   "metadata": {},
   "source": [
    "## selenium을 이용하여 주유가격 수집 2\n",
    "\n",
    "**일일히 css에 스크레핑해와야 쥬피터를 돌렸을때 뜬다.**"
   ]
  },
  {
   "cell_type": "code",
   "execution_count": 77,
   "metadata": {},
   "outputs": [],
   "source": [
    "from selenium import webdriver as wd\n",
    "import urllib"
   ]
  },
  {
   "cell_type": "code",
   "execution_count": 78,
   "metadata": {},
   "outputs": [],
   "source": [
    "driver = wd.Chrome('../tool/chromedriver_75.0.3770.140.exe')"
   ]
  },
  {
   "cell_type": "code",
   "execution_count": 79,
   "metadata": {},
   "outputs": [],
   "source": [
    "target_url = 'http://www.opinet.co.kr/searRgSelect.do'"
   ]
  },
  {
   "cell_type": "code",
   "execution_count": 80,
   "metadata": {},
   "outputs": [
    {
     "name": "stdout",
     "output_type": "stream",
     "text": [
      "요청중 1\n",
      "요청중 2\n"
     ]
    }
   ],
   "source": [
    "# 위 사이트가 중간 페이지를 직접 접속하는 부분을 거부하기 때문에 \n",
    "# 시간차를 두고 2회 요청을 진행했다.\n",
    "import time\n",
    "for n in range(2):\n",
    "    driver.get( target_url )\n",
    "    time.sleep(5)\n",
    "    print('요청중',n+1)"
   ]
  },
  {
   "cell_type": "markdown",
   "metadata": {},
   "source": [
    "1. '시도' 정보를 추출하여 리스트화 \n",
    "2. 리스트를 반복하면서 해당 '시도' 밑에 '시군구' 리스트화 \n",
    "3. '시군구' 리스트를 반복하면서 '읍면동'도 리스트화\n",
    "4. '읍면동' 리스트를 반복하면서 -> 조회 -> 다운로드순으로 진행되는것이 기본 \n",
    "5. 사이트 관찰결과, '시도','시군구','읍면동' 정보가 새로 세팅되면서 화면의 DOM이 모두 새로 구성이 되는 문제가 있어서 반복문 안에서는 반드시 '시도','시군구','읍면동',을 새로 잡아줘야한다.!!(매우중요)\n",
    "6. 여기서는'시군구'를 반복하면서 바로 조회 및 다운로드로 전개!!!"
   ]
  },
  {
   "cell_type": "code",
   "execution_count": 81,
   "metadata": {},
   "outputs": [
    {
     "data": {
      "text/plain": [
       "(['서울특별시', '부산광역시'], ['경상남도', '제주특별자치도'], ['부산광역시'])"
      ]
     },
     "execution_count": 81,
     "metadata": {},
     "output_type": "execute_result"
    }
   ],
   "source": [
    "# 1. '시도' 정보를 추출하여 리스트화 \n",
    "\n",
    "sidos = [ option.get_attribute('value') \n",
    "          for option in driver.find_elements_by_css_selector('#SIDO_NM0 > option') \n",
    "          if option.get_attribute('value') \n",
    "        ]\n",
    "#데이터의 상위 값, 하위 값의 각 값을 조사를 통해 샘플링으로 확인! \n",
    "sidos[:2],sidos[-2:],sidos[1:2]"
   ]
  },
  {
   "cell_type": "code",
   "execution_count": 82,
   "metadata": {},
   "outputs": [
    {
     "name": "stdout",
     "output_type": "stream",
     "text": [
      "부산광역시 ['강서구', '금정구', '기장군', '남구']\n"
     ]
    }
   ],
   "source": [
    "# 2. 리스트를 반복하면서 해당 '시도' 밑에 '시군구' 리스트화 \n",
    "#sidos 중 부산만 대상으로 수집!!\n",
    "# 샘플링을 통해서 sidos[1:2]가 부산 광역시임을 확인_\n",
    "for sido in sidos[1:2]:\n",
    "    #2-1. sido의 대상을 find\n",
    "    sido_tag = driver.find_element_by_id('SIDO_NM0')\n",
    "    #2-2. sido 값을 설정\n",
    "    sido_tag.send_keys( sido )\n",
    "    #2-2-1.잠시 대기 5초(ajax 통신후 화면이 재구성될대까지)\n",
    "    time.sleep(5)\n",
    "    #2-3. '시구군' 리스트 확득\n",
    "    sigungus = [option.get_attribute('value') \n",
    "                for option in driver.find_elements_by_css_selector('#SIGUNGU_NM0 > option') \n",
    "                if option.get_attribute('value') \n",
    "    ]\n",
    "    print(sido, sigungus[:4])\n",
    "    #2-4. 반복 ~ 3단계로 진입 \n",
    "    \n",
    "    #3. '시군구' 리스트를 반복하면서 -> 잠시 대기 (5sec) -> 엑셀로 저장\n",
    "    for sigungu in sigungus:\n",
    "        #3-1.' 시군구' 태그를 찾아서 \n",
    "        sigungu_tag = driver.find_element_by_id('SIGUNGU_NM0')\n",
    "        #3-2. ' 시군구' 값을 설정 \n",
    "        sigungu_tag.send_keys( sigungu )\n",
    "        #3-3. 잠시대기 \n",
    "        time.sleep(5)\n",
    "        #엑셀 저장 \n",
    "        driver.find_element_by_id('glopopd_excel').click()\n",
    "    "
   ]
  },
  {
   "cell_type": "markdown",
   "metadata": {},
   "source": [
    "## 데이터 수집 완료 \n",
    "- 수십개의 엑셀파일을 반복적으로 읽어서 DataFrame으로 구성하기"
   ]
  },
  {
   "cell_type": "code",
   "execution_count": 83,
   "metadata": {},
   "outputs": [],
   "source": [
    "# glob 특성 위치상에 존재하는 파일들을 패턴을 지정하여 목록을 구성할수 있다. \n",
    "from glob import glob\n",
    "import pandas as pd"
   ]
  },
  {
   "cell_type": "code",
   "execution_count": 89,
   "metadata": {},
   "outputs": [
    {
     "data": {
      "text/plain": [
       "(['C:/Users/sun41/Desktop/projects/analysis/pandas/data/opinet\\\\지역_위치별(주유소) (1).xls',\n",
       "  'C:/Users/sun41/Desktop/projects/analysis/pandas/data/opinet\\\\지역_위치별(주유소) (10).xls'],\n",
       " ['C:/Users/sun41/Desktop/projects/analysis/pandas/data/opinet\\\\지역_위치별(주유소) (9).xls',\n",
       "  'C:/Users/sun41/Desktop/projects/analysis/pandas/data/opinet\\\\지역_위치별(주유소).xls'])"
      ]
     },
     "execution_count": 89,
     "metadata": {},
     "output_type": "execute_result"
    }
   ],
   "source": [
    "# 부산에 관한 '시군구'에 조회된 엑셀 자료를 읽을 수 있도록 파일경로를 리스트화 \n",
    "down_files = glob('C:/Users/sun41/Desktop/projects/analysis/pandas/data/opinet/지역*.xls')\n",
    "down_files[:2],down_files[-2:]"
   ]
  },
  {
   "cell_type": "code",
   "execution_count": 90,
   "metadata": {},
   "outputs": [],
   "source": [
    "# down_files로 엑셀 파일의 경로와 이름을 리트스로 저장 -> read_excel로 각파일을 읽은후 \n",
    "# tmp_raws 변수에 append 시킴\n",
    "tmp_raws = []\n",
    "for file in down_files:\n",
    "    # read_excel로 각 엑셀파일을 읽은 후 \n",
    "    tmp = pd.read_excel(file, header =2)\n",
    "    #타겟을 정하고 내용을 삽입 (append) \n",
    "    tmp_raws.append(tmp )\n",
    "#반복문이 끝나면concat으로 엑셀 내용이 하나로 합쳐진다.\n",
    "st_raw = pd.concat(tmp_raws)"
   ]
  },
  {
   "cell_type": "code",
   "execution_count": 91,
   "metadata": {},
   "outputs": [
    {
     "name": "stdout",
     "output_type": "stream",
     "text": [
      "<class 'pandas.core.frame.DataFrame'>\n",
      "Int64Index: 420 entries, 0 to 48\n",
      "Data columns (total 10 columns):\n",
      "지역       420 non-null object\n",
      "상호       420 non-null object\n",
      "주소       420 non-null object\n",
      "상표       420 non-null object\n",
      "전화번호     420 non-null object\n",
      "셀프여부     420 non-null object\n",
      "고급휘발유    420 non-null object\n",
      "휘발유      420 non-null object\n",
      "경유       420 non-null object\n",
      "실내등유     420 non-null object\n",
      "dtypes: object(10)\n",
      "memory usage: 36.1+ KB\n"
     ]
    }
   ],
   "source": [
    "#스테이션 정보가 저장된것을 확인\n",
    "st_raw.info()"
   ]
  },
  {
   "cell_type": "code",
   "execution_count": 92,
   "metadata": {},
   "outputs": [
    {
     "data": {
      "text/plain": [
       "(420, 10)"
      ]
     },
     "execution_count": 92,
     "metadata": {},
     "output_type": "execute_result"
    }
   ],
   "source": [
    "st_raw.shape"
   ]
  },
  {
   "cell_type": "code",
   "execution_count": 95,
   "metadata": {
    "scrolled": true
   },
   "outputs": [
    {
     "data": {
      "text/plain": [
       "Index(['지역', '상호', '주소', '상표', '전화번호', '셀프여부', '고급휘발유', '휘발유', '경유', '실내등유'], dtype='object')"
      ]
     },
     "execution_count": 95,
     "metadata": {},
     "output_type": "execute_result"
    }
   ],
   "source": [
    "st_raw.columns"
   ]
  },
  {
   "cell_type": "code",
   "execution_count": 101,
   "metadata": {},
   "outputs": [
    {
     "data": {
      "text/plain": [
       "Index(['주소'], dtype='object')"
      ]
     },
     "execution_count": 101,
     "metadata": {},
     "output_type": "execute_result"
    }
   ],
   "source": [
    "st_raw.columns[2:3]"
   ]
  },
  {
   "cell_type": "code",
   "execution_count": 94,
   "metadata": {
    "scrolled": false
   },
   "outputs": [
    {
     "data": {
      "text/html": [
       "<div>\n",
       "<style scoped>\n",
       "    .dataframe tbody tr th:only-of-type {\n",
       "        vertical-align: middle;\n",
       "    }\n",
       "\n",
       "    .dataframe tbody tr th {\n",
       "        vertical-align: top;\n",
       "    }\n",
       "\n",
       "    .dataframe thead th {\n",
       "        text-align: right;\n",
       "    }\n",
       "</style>\n",
       "<table border=\"1\" class=\"dataframe\">\n",
       "  <thead>\n",
       "    <tr style=\"text-align: right;\">\n",
       "      <th></th>\n",
       "      <th>지역</th>\n",
       "      <th>상호</th>\n",
       "      <th>주소</th>\n",
       "      <th>상표</th>\n",
       "      <th>전화번호</th>\n",
       "      <th>셀프여부</th>\n",
       "      <th>고급휘발유</th>\n",
       "      <th>휘발유</th>\n",
       "      <th>경유</th>\n",
       "      <th>실내등유</th>\n",
       "    </tr>\n",
       "  </thead>\n",
       "  <tbody>\n",
       "    <tr>\n",
       "      <td>0</td>\n",
       "      <td>부산광역시</td>\n",
       "      <td>은마석유 노포주유소</td>\n",
       "      <td>부산 금정구 중앙대로 2191 (노포동)</td>\n",
       "      <td>GS칼텍스</td>\n",
       "      <td>051-508-1645</td>\n",
       "      <td>Y</td>\n",
       "      <td>-</td>\n",
       "      <td>1463</td>\n",
       "      <td>1308</td>\n",
       "      <td>1050</td>\n",
       "    </tr>\n",
       "    <tr>\n",
       "      <td>1</td>\n",
       "      <td>부산광역시</td>\n",
       "      <td>훼미리알뜰주유소</td>\n",
       "      <td>부산 금정구 두실로 2 (남산동)</td>\n",
       "      <td>알뜰주유소</td>\n",
       "      <td>051-582-5882</td>\n",
       "      <td>N</td>\n",
       "      <td>-</td>\n",
       "      <td>1473</td>\n",
       "      <td>1318</td>\n",
       "      <td>-</td>\n",
       "    </tr>\n",
       "    <tr>\n",
       "      <td>2</td>\n",
       "      <td>부산광역시</td>\n",
       "      <td>청룡명품주유소</td>\n",
       "      <td>부산 금정구 중앙대로 2130</td>\n",
       "      <td>현대오일뱅크</td>\n",
       "      <td>051-508-5150</td>\n",
       "      <td>N</td>\n",
       "      <td>-</td>\n",
       "      <td>1478</td>\n",
       "      <td>1318</td>\n",
       "      <td>-</td>\n",
       "    </tr>\n",
       "  </tbody>\n",
       "</table>\n",
       "</div>"
      ],
      "text/plain": [
       "      지역          상호                      주소      상표          전화번호 셀프여부 고급휘발유  \\\n",
       "0  부산광역시  은마석유 노포주유소  부산 금정구 중앙대로 2191 (노포동)   GS칼텍스  051-508-1645    Y     -   \n",
       "1  부산광역시    훼미리알뜰주유소      부산 금정구 두실로 2 (남산동)   알뜰주유소  051-582-5882    N     -   \n",
       "2  부산광역시     청룡명품주유소        부산 금정구 중앙대로 2130  현대오일뱅크  051-508-5150    N     -   \n",
       "\n",
       "    휘발유    경유  실내등유  \n",
       "0  1463  1308  1050  \n",
       "1  1473  1318     -  \n",
       "2  1478  1318     -  "
      ]
     },
     "execution_count": 94,
     "metadata": {},
     "output_type": "execute_result"
    }
   ],
   "source": [
    "#상위 3개 - 컬럼 제외\n",
    "st_raw.head(3)"
   ]
  },
  {
   "cell_type": "code",
   "execution_count": 102,
   "metadata": {
    "scrolled": true
   },
   "outputs": [
    {
     "data": {
      "text/html": [
       "<div>\n",
       "<style scoped>\n",
       "    .dataframe tbody tr th:only-of-type {\n",
       "        vertical-align: middle;\n",
       "    }\n",
       "\n",
       "    .dataframe tbody tr th {\n",
       "        vertical-align: top;\n",
       "    }\n",
       "\n",
       "    .dataframe thead th {\n",
       "        text-align: right;\n",
       "    }\n",
       "</style>\n",
       "<table border=\"1\" class=\"dataframe\">\n",
       "  <thead>\n",
       "    <tr style=\"text-align: right;\">\n",
       "      <th></th>\n",
       "      <th>지역</th>\n",
       "      <th>상호</th>\n",
       "      <th>주소</th>\n",
       "      <th>상표</th>\n",
       "      <th>전화번호</th>\n",
       "      <th>셀프여부</th>\n",
       "      <th>고급휘발유</th>\n",
       "      <th>휘발유</th>\n",
       "      <th>경유</th>\n",
       "      <th>실내등유</th>\n",
       "    </tr>\n",
       "  </thead>\n",
       "  <tbody>\n",
       "    <tr>\n",
       "      <td>46</td>\n",
       "      <td>부산광역시</td>\n",
       "      <td>SK에너지(주)새부산주유소</td>\n",
       "      <td>부산 강서구 낙동북로 42 (강동동)</td>\n",
       "      <td>SK에너지</td>\n",
       "      <td>051-971-8484</td>\n",
       "      <td>N</td>\n",
       "      <td>-</td>\n",
       "      <td>1559</td>\n",
       "      <td>1433</td>\n",
       "      <td>1020</td>\n",
       "    </tr>\n",
       "    <tr>\n",
       "      <td>47</td>\n",
       "      <td>부산광역시</td>\n",
       "      <td>명지주유소</td>\n",
       "      <td>부산 강서구 낙동남로 1042</td>\n",
       "      <td>SK에너지</td>\n",
       "      <td>051-271-2828</td>\n",
       "      <td>N</td>\n",
       "      <td>-</td>\n",
       "      <td>1568</td>\n",
       "      <td>1428</td>\n",
       "      <td>-</td>\n",
       "    </tr>\n",
       "    <tr>\n",
       "      <td>48</td>\n",
       "      <td>부산광역시</td>\n",
       "      <td>동성셀프주유소</td>\n",
       "      <td>부산광역시 강서구 명지국제8로 272 (명지동)</td>\n",
       "      <td>S-OIL</td>\n",
       "      <td>051-711-7537</td>\n",
       "      <td>Y</td>\n",
       "      <td>-</td>\n",
       "      <td>1569</td>\n",
       "      <td>1409</td>\n",
       "      <td>-</td>\n",
       "    </tr>\n",
       "  </tbody>\n",
       "</table>\n",
       "</div>"
      ],
      "text/plain": [
       "       지역              상호                          주소     상표          전화번호  \\\n",
       "46  부산광역시  SK에너지(주)새부산주유소        부산 강서구 낙동북로 42 (강동동)  SK에너지  051-971-8484   \n",
       "47  부산광역시           명지주유소            부산 강서구 낙동남로 1042  SK에너지  051-271-2828   \n",
       "48  부산광역시         동성셀프주유소  부산광역시 강서구 명지국제8로 272 (명지동)  S-OIL  051-711-7537   \n",
       "\n",
       "   셀프여부 고급휘발유   휘발유    경유  실내등유  \n",
       "46    N     -  1559  1433  1020  \n",
       "47    N     -  1568  1428     -  \n",
       "48    Y     -  1569  1409     -  "
      ]
     },
     "execution_count": 102,
     "metadata": {},
     "output_type": "execute_result"
    }
   ],
   "source": [
    "st_raw.tail(3)"
   ]
  },
  {
   "cell_type": "markdown",
   "metadata": {
    "scrolled": true
   },
   "source": [
    "- 응용 : '시군구' 단위 => '읍면동' 단위 \n",
    "\n",
    "> 1. 주유소정보데이터 부산시 행정구역으로 표현  \n",
    "> 2. 자치구별 가장 저렴한 주유소 및 가장 비싼 주유소 마킹  \n",
    "> 3. 행정구역별 주유가격 평균을 통해서 칼라맵으로 표시, 휘발유기준, 가격없는 주유소는 배제  \n",
    "> 4. 브랜드별(6개) 알뜰주유소 Vs 브랜드대비, 진짜 싼지 체크!!  -> seaborn의 박스플롯과 스완플롯을 같이 활용하여 시각화 한다\n",
    "> 브랜드, 셀프여부, 휘발유/경유,등등"
   ]
  },
  {
   "cell_type": "code",
   "execution_count": 103,
   "metadata": {
    "scrolled": true
   },
   "outputs": [
    {
     "data": {
      "text/plain": [
       "(96, 10)"
      ]
     },
     "execution_count": 103,
     "metadata": {},
     "output_type": "execute_result"
    }
   ],
   "source": [
    "# 주소가 xx동이 탐색되는 있는 주유소 정보\n",
    "tmp = st_raw[ st_raw['주소'].apply(lambda x: x.find('동')< 0)]\n",
    "tmp.shape"
   ]
  },
  {
   "cell_type": "code",
   "execution_count": 104,
   "metadata": {},
   "outputs": [
    {
     "data": {
      "text/plain": [
       "array([1463, 1473, 1478, 1483, 1489, 1498, 1503, 1509, 1527, 1528, 1569,\n",
       "       1579, 1585, 1617, 1695, 1459, 1475, 1488, 1495, 1518, 1598, 1482,\n",
       "       1486, 1487, 1514, 1517, 1538, 1545, 1597, 1650, 1688, 1698, 1458,\n",
       "       1468, 1492, 1496, 1510, 1513, 1515, 1519, 1558, 1557, 1578, 1658,\n",
       "       1694, 1434, 1565, 1449, 1457, 1462, 1479, 1485, 1529, 1533, 1535,\n",
       "       1548, 1550, 1553, 1555, 1568, 1583, 1593, 1633, 1499, 1508, 1540,\n",
       "       1551, 1699, 1476, 1477, 1497, 1525, 1549, 1589, 1595, 1596, 1493,\n",
       "       1885, 1466, 1507, 1725, '1445', '1448', '1458', '1459', '1468',\n",
       "       '1475', '1477', '1486', '1488', '1495', '1497', '1527', '1528',\n",
       "       '1548', '1555', '1568', '1595', '1598', '-', 1448, 1454, 1506,\n",
       "       1559, 1572, 1443, 1444, 1445, 1556, 1629, 1637, 1739, '1440',\n",
       "       '1447', '1467', '1478', '1487', '1493', '1498', '1499', '1507',\n",
       "       '1508', '1529', '1538', '1593', 1467, 1500, 1539], dtype=object)"
      ]
     },
     "execution_count": 104,
     "metadata": {},
     "output_type": "execute_result"
    }
   ],
   "source": [
    "# 값 중복성 제거를 통안 결측치 및 타입 확인 \n",
    "st_raw['휘발유'].unique()"
   ]
  },
  {
   "cell_type": "code",
   "execution_count": 105,
   "metadata": {},
   "outputs": [
    {
     "data": {
      "text/plain": [
       "(416, 10)"
      ]
     },
     "execution_count": 105,
     "metadata": {},
     "output_type": "execute_result"
    }
   ],
   "source": [
    "# 지도 시각화의 기준점이 휘발유 가격\n",
    "# 고로 휘발유 가격을 정제하여 의미있는 데이터만 남김\n",
    "st_raw_price_exist = st_raw[ st_raw['휘발유'] != '-' ]\n",
    "st_raw_price_exist.shape"
   ]
  },
  {
   "cell_type": "code",
   "execution_count": 106,
   "metadata": {},
   "outputs": [],
   "source": [
    "# 데이터를 정수형으로 형변환 astype() <- 시리즈\n",
    "st_raw_price_exist.loc[:,'휘발유'] = st_raw_price_exist.loc[:,'휘발유'].astype(int)"
   ]
  },
  {
   "cell_type": "code",
   "execution_count": 107,
   "metadata": {},
   "outputs": [
    {
     "data": {
      "text/plain": [
       "array([1463, 1473, 1478, 1483, 1489, 1498, 1503, 1509, 1527, 1528, 1569,\n",
       "       1579, 1585, 1617, 1695, 1459, 1475, 1488, 1495, 1518, 1598, 1482,\n",
       "       1486, 1487, 1514, 1517, 1538, 1545, 1597, 1650, 1688, 1698, 1458,\n",
       "       1468, 1492, 1496, 1510, 1513, 1515, 1519, 1558, 1557, 1578, 1658,\n",
       "       1694, 1434, 1565, 1449, 1457, 1462, 1479, 1485, 1529, 1533, 1535,\n",
       "       1548, 1550, 1553, 1555, 1568, 1583, 1593, 1633, 1499, 1508, 1540,\n",
       "       1551, 1699, 1476, 1477, 1497, 1525, 1549, 1589, 1595, 1596, 1493,\n",
       "       1885, 1466, 1507, 1725, 1445, 1448, 1454, 1506, 1559, 1572, 1443,\n",
       "       1444, 1556, 1629, 1637, 1739, 1440, 1447, 1467, 1500, 1539],\n",
       "      dtype=int64)"
      ]
     },
     "execution_count": 107,
     "metadata": {},
     "output_type": "execute_result"
    }
   ],
   "source": [
    "st_raw_price_exist['휘발유'].unique()"
   ]
  },
  {
   "cell_type": "code",
   "execution_count": 108,
   "metadata": {},
   "outputs": [
    {
     "data": {
      "text/plain": [
       "dtype('int32')"
      ]
     },
     "execution_count": 108,
     "metadata": {},
     "output_type": "execute_result"
    }
   ],
   "source": [
    "# 시리즈 타입 확인 \n",
    "st_raw_price_exist['휘발유'].dtype"
   ]
  },
  {
   "cell_type": "code",
   "execution_count": 109,
   "metadata": {},
   "outputs": [
    {
     "data": {
      "text/plain": [
       "(1434, 1885, 1510.0384615384614)"
      ]
     },
     "execution_count": 109,
     "metadata": {},
     "output_type": "execute_result"
    }
   ],
   "source": [
    "st_raw_price_exist['휘발유'].min(), st_raw_price_exist['휘발유'].max(), st_raw_price_exist['휘발유'].mean() "
   ]
  },
  {
   "cell_type": "code",
   "execution_count": 110,
   "metadata": {},
   "outputs": [
    {
     "data": {
      "text/html": [
       "<div>\n",
       "<style scoped>\n",
       "    .dataframe tbody tr th:only-of-type {\n",
       "        vertical-align: middle;\n",
       "    }\n",
       "\n",
       "    .dataframe tbody tr th {\n",
       "        vertical-align: top;\n",
       "    }\n",
       "\n",
       "    .dataframe thead th {\n",
       "        text-align: right;\n",
       "    }\n",
       "</style>\n",
       "<table border=\"1\" class=\"dataframe\">\n",
       "  <thead>\n",
       "    <tr style=\"text-align: right;\">\n",
       "      <th></th>\n",
       "      <th>지역</th>\n",
       "      <th>상호</th>\n",
       "      <th>주소</th>\n",
       "      <th>상표</th>\n",
       "      <th>전화번호</th>\n",
       "      <th>셀프여부</th>\n",
       "      <th>고급휘발유</th>\n",
       "      <th>휘발유</th>\n",
       "      <th>경유</th>\n",
       "      <th>실내등유</th>\n",
       "    </tr>\n",
       "  </thead>\n",
       "  <tbody>\n",
       "    <tr>\n",
       "      <td>0</td>\n",
       "      <td>부산광역시</td>\n",
       "      <td>은마석유 노포주유소</td>\n",
       "      <td>부산 금정구 중앙대로 2191 (노포동)</td>\n",
       "      <td>GS칼텍스</td>\n",
       "      <td>051-508-1645</td>\n",
       "      <td>Y</td>\n",
       "      <td>-</td>\n",
       "      <td>1463</td>\n",
       "      <td>1308</td>\n",
       "      <td>1050</td>\n",
       "    </tr>\n",
       "    <tr>\n",
       "      <td>1</td>\n",
       "      <td>부산광역시</td>\n",
       "      <td>훼미리알뜰주유소</td>\n",
       "      <td>부산 금정구 두실로 2 (남산동)</td>\n",
       "      <td>알뜰주유소</td>\n",
       "      <td>051-582-5882</td>\n",
       "      <td>N</td>\n",
       "      <td>-</td>\n",
       "      <td>1473</td>\n",
       "      <td>1318</td>\n",
       "      <td>-</td>\n",
       "    </tr>\n",
       "    <tr>\n",
       "      <td>2</td>\n",
       "      <td>부산광역시</td>\n",
       "      <td>청룡명품주유소</td>\n",
       "      <td>부산 금정구 중앙대로 2130</td>\n",
       "      <td>현대오일뱅크</td>\n",
       "      <td>051-508-5150</td>\n",
       "      <td>N</td>\n",
       "      <td>-</td>\n",
       "      <td>1478</td>\n",
       "      <td>1318</td>\n",
       "      <td>-</td>\n",
       "    </tr>\n",
       "  </tbody>\n",
       "</table>\n",
       "</div>"
      ],
      "text/plain": [
       "      지역          상호                      주소      상표          전화번호 셀프여부 고급휘발유  \\\n",
       "0  부산광역시  은마석유 노포주유소  부산 금정구 중앙대로 2191 (노포동)   GS칼텍스  051-508-1645    Y     -   \n",
       "1  부산광역시    훼미리알뜰주유소      부산 금정구 두실로 2 (남산동)   알뜰주유소  051-582-5882    N     -   \n",
       "2  부산광역시     청룡명품주유소        부산 금정구 중앙대로 2130  현대오일뱅크  051-508-5150    N     -   \n",
       "\n",
       "    휘발유    경유  실내등유  \n",
       "0  1463  1308  1050  \n",
       "1  1473  1318     -  \n",
       "2  1478  1318     -  "
      ]
     },
     "execution_count": 110,
     "metadata": {},
     "output_type": "execute_result"
    }
   ],
   "source": [
    "st_raw_price_exist.head(3)"
   ]
  },
  {
   "cell_type": "code",
   "execution_count": 111,
   "metadata": {},
   "outputs": [
    {
     "name": "stderr",
     "output_type": "stream",
     "text": [
      "C:\\Users\\sun41\\AppData\\Local\\Continuum\\anaconda3\\envs\\analysis\\lib\\site-packages\\ipykernel_launcher.py:4: SettingWithCopyWarning: \n",
      "A value is trying to be set on a copy of a slice from a DataFrame.\n",
      "Try using .loc[row_indexer,col_indexer] = value instead\n",
      "\n",
      "See the caveats in the documentation: http://pandas.pydata.org/pandas-docs/stable/user_guide/indexing.html#returning-a-view-versus-a-copy\n",
      "  after removing the cwd from sys.path.\n"
     ]
    }
   ],
   "source": [
    "# 구 이름 추출 \n",
    "# 빈칸 기준으로 분리(split)\n",
    "tmp_gu = st_raw_price_exist['주소'].apply( lambda x : x.split()[1] )\n",
    "st_raw_price_exist['자치구'] = tmp_gu"
   ]
  },
  {
   "cell_type": "code",
   "execution_count": 112,
   "metadata": {
    "scrolled": true
   },
   "outputs": [
    {
     "data": {
      "text/plain": [
       "(array(['금정구', '서구', '수영구', '연제구', '영도구', '중구', '해운대구', '기장군', '남구', '동구',\n",
       "        '동래구', '부산진구', '북구', '사상구', '사하구', '강서구'], dtype=object), 16)"
      ]
     },
     "execution_count": 112,
     "metadata": {},
     "output_type": "execute_result"
    }
   ],
   "source": [
    "# 부산의 총 자치구 중복성 검사 , 16개 확인 완료\n",
    "st_raw_price_exist['자치구'].unique(), len(st_raw_price_exist['자치구'].unique())"
   ]
  },
  {
   "cell_type": "code",
   "execution_count": null,
   "metadata": {},
   "outputs": [],
   "source": [
    "# 데이터 베이스 만들기 "
   ]
  },
  {
   "cell_type": "code",
   "execution_count": 113,
   "metadata": {},
   "outputs": [
    {
     "ename": "AttributeError",
     "evalue": "module 'pandas' has no attribute 'pivot_tabel'",
     "output_type": "error",
     "traceback": [
      "\u001b[1;31m---------------------------------------------------------------------------\u001b[0m",
      "\u001b[1;31mAttributeError\u001b[0m                            Traceback (most recent call last)",
      "\u001b[1;32m<ipython-input-113-eb57875ceb44>\u001b[0m in \u001b[0;36m<module>\u001b[1;34m\u001b[0m\n\u001b[1;32m----> 1\u001b[1;33m \u001b[0mst_raw_gasoline\u001b[0m \u001b[1;33m=\u001b[0m \u001b[0mpd\u001b[0m\u001b[1;33m.\u001b[0m\u001b[0mpivot_tabel\u001b[0m\u001b[1;33m(\u001b[0m \u001b[0mst_raw_price_exist\u001b[0m\u001b[1;33m,\u001b[0m \u001b[0mindex\u001b[0m \u001b[1;33m=\u001b[0m\u001b[1;34m'자치구'\u001b[0m \u001b[1;33m)\u001b[0m\u001b[1;33m\u001b[0m\u001b[1;33m\u001b[0m\u001b[0m\n\u001b[0m",
      "\u001b[1;31mAttributeError\u001b[0m: module 'pandas' has no attribute 'pivot_tabel'"
     ]
    }
   ],
   "source": [
    "st_raw_gasoline = pd.pivot_tabel( st_raw_price_exist, index ='자치구' )"
   ]
  },
  {
   "cell_type": "code",
   "execution_count": null,
   "metadata": {},
   "outputs": [],
   "source": []
  },
  {
   "cell_type": "code",
   "execution_count": null,
   "metadata": {},
   "outputs": [],
   "source": []
  },
  {
   "cell_type": "code",
   "execution_count": null,
   "metadata": {},
   "outputs": [],
   "source": []
  },
  {
   "cell_type": "code",
   "execution_count": null,
   "metadata": {},
   "outputs": [],
   "source": []
  },
  {
   "cell_type": "code",
   "execution_count": null,
   "metadata": {},
   "outputs": [],
   "source": []
  },
  {
   "cell_type": "code",
   "execution_count": null,
   "metadata": {},
   "outputs": [],
   "source": []
  },
  {
   "cell_type": "code",
   "execution_count": null,
   "metadata": {},
   "outputs": [],
   "source": []
  },
  {
   "cell_type": "code",
   "execution_count": null,
   "metadata": {},
   "outputs": [],
   "source": []
  },
  {
   "cell_type": "code",
   "execution_count": null,
   "metadata": {},
   "outputs": [],
   "source": []
  }
 ],
 "metadata": {
  "kernelspec": {
   "display_name": "Python 3",
   "language": "python",
   "name": "python3"
  },
  "language_info": {
   "codemirror_mode": {
    "name": "ipython",
    "version": 3
   },
   "file_extension": ".py",
   "mimetype": "text/x-python",
   "name": "python",
   "nbconvert_exporter": "python",
   "pygments_lexer": "ipython3",
   "version": "3.6.9"
  }
 },
 "nbformat": 4,
 "nbformat_minor": 2
}
